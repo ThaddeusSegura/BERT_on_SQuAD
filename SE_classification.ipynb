{
  "nbformat": 4,
  "nbformat_minor": 0,
  "metadata": {
    "colab": {
      "name": "SE_classification.ipynb",
      "provenance": [],
      "collapsed_sections": [
        "O3CSRuKkGt2E",
        "hmN18vXMGt4N",
        "CjO9g_QsGt6d",
        "rb9nh89wGt9P",
        "rQIH9OPrGwPq",
        "o_MKLf-2GweR",
        "rlQ3dP6JWUMy",
        "sj66rRTTXPB0",
        "ZNg5M2QNXXbU",
        "luE3KtO7Xb08"
      ],
      "toc_visible": true,
      "machine_shape": "hm"
    },
    "kernelspec": {
      "name": "python3",
      "display_name": "Python 3"
    },
    "accelerator": "GPU"
  },
  "cells": [
    {
      "cell_type": "markdown",
      "metadata": {
        "id": "LoWyMHHSGxLk",
        "colab_type": "text"
      },
      "source": [
        "# Classification model.\n",
        "\n",
        "\n",
        "*   Take the original training set and classify all questions as 0: Answerable or 1: Unanswerable.\n",
        "*   Use Huggingface transformers: BertForSequenceClassification\n",
        "*   Evaluate results\n",
        "\n"
      ]
    },
    {
      "cell_type": "markdown",
      "metadata": {
        "id": "O3CSRuKkGt2E",
        "colab_type": "text"
      },
      "source": [
        "### Step 1: File set up. "
      ]
    },
    {
      "cell_type": "code",
      "metadata": {
        "id": "Su1DUrXVGu0m",
        "colab_type": "code",
        "colab": {
          "base_uri": "https://localhost:8080/",
          "height": 124
        },
        "outputId": "bedf3d23-5843-4dfc-ad51-a45cc1280fc3"
      },
      "source": [
        "#Mount my drive so that I can access the split training sets. \n",
        "\n",
        "from google.colab import drive\n",
        "drive.mount('/content/drive')"
      ],
      "execution_count": null,
      "outputs": [
        {
          "output_type": "stream",
          "text": [
            "Go to this URL in a browser: https://accounts.google.com/o/oauth2/auth?client_id=947318989803-6bn6qk8qdgf4n4g3pfee6491hc0brc4i.apps.googleusercontent.com&redirect_uri=urn%3aietf%3awg%3aoauth%3a2.0%3aoob&response_type=code&scope=email%20https%3a%2f%2fwww.googleapis.com%2fauth%2fdocs.test%20https%3a%2f%2fwww.googleapis.com%2fauth%2fdrive%20https%3a%2f%2fwww.googleapis.com%2fauth%2fdrive.photos.readonly%20https%3a%2f%2fwww.googleapis.com%2fauth%2fpeopleapi.readonly\n",
            "\n",
            "Enter your authorization code:\n",
            "··········\n",
            "Mounted at /content/drive\n"
          ],
          "name": "stdout"
        }
      ]
    },
    {
      "cell_type": "code",
      "metadata": {
        "id": "rZgZVtUd_27n",
        "colab_type": "code",
        "colab": {
          "base_uri": "https://localhost:8080/",
          "height": 398
        },
        "outputId": "ab1f5891-76ca-495a-c472-12dfc3214a78"
      },
      "source": [
        "# Download the SQUAD train and dev dataset\n",
        "\n",
        "# I will need the full training set.  \n",
        "!wget https://rajpurkar.github.io/SQuAD-explorer/dataset/train-v2.0.json\n",
        "\n",
        "# Still download the Dev set.\n",
        "!wget https://rajpurkar.github.io/SQuAD-explorer/dataset/dev-v2.0.json"
      ],
      "execution_count": null,
      "outputs": [
        {
          "output_type": "stream",
          "text": [
            "--2020-07-21 13:35:42--  https://rajpurkar.github.io/SQuAD-explorer/dataset/train-v2.0.json\n",
            "Resolving rajpurkar.github.io (rajpurkar.github.io)... 185.199.108.153, 185.199.109.153, 185.199.110.153, ...\n",
            "Connecting to rajpurkar.github.io (rajpurkar.github.io)|185.199.108.153|:443... connected.\n",
            "HTTP request sent, awaiting response... 200 OK\n",
            "Length: 42123633 (40M) [application/json]\n",
            "Saving to: ‘train-v2.0.json’\n",
            "\n",
            "train-v2.0.json     100%[===================>]  40.17M  58.5MB/s    in 0.7s    \n",
            "\n",
            "2020-07-21 13:35:46 (58.5 MB/s) - ‘train-v2.0.json’ saved [42123633/42123633]\n",
            "\n",
            "--2020-07-21 13:35:47--  https://rajpurkar.github.io/SQuAD-explorer/dataset/dev-v2.0.json\n",
            "Resolving rajpurkar.github.io (rajpurkar.github.io)... 185.199.111.153, 185.199.109.153, 185.199.110.153, ...\n",
            "Connecting to rajpurkar.github.io (rajpurkar.github.io)|185.199.111.153|:443... connected.\n",
            "HTTP request sent, awaiting response... 200 OK\n",
            "Length: 4370528 (4.2M) [application/json]\n",
            "Saving to: ‘dev-v2.0.json’\n",
            "\n",
            "dev-v2.0.json       100%[===================>]   4.17M  17.7MB/s    in 0.2s    \n",
            "\n",
            "2020-07-21 13:35:49 (17.7 MB/s) - ‘dev-v2.0.json’ saved [4370528/4370528]\n",
            "\n"
          ],
          "name": "stdout"
        }
      ]
    },
    {
      "cell_type": "markdown",
      "metadata": {
        "id": "hmN18vXMGt4N",
        "colab_type": "text"
      },
      "source": [
        "### Step 2: Set up GPU and HuggingFace"
      ]
    },
    {
      "cell_type": "code",
      "metadata": {
        "id": "kdxA13PHGvLF",
        "colab_type": "code",
        "colab": {
          "base_uri": "https://localhost:8080/",
          "height": 52
        },
        "outputId": "8d7d26a3-a1d8-4269-fbc3-50a3597b49fe"
      },
      "source": [
        "# Connect to GPU\n",
        "import torch\n",
        "\n",
        "if torch.cuda.is_available():     \n",
        "    device = torch.device(\"cuda\")\n",
        "    print('There are %d GPU(s) available.' % torch.cuda.device_count())\n",
        "    print('GPU:', torch.cuda.get_device_name(0))\n",
        "else:\n",
        "    print('No GPU available, using the CPU instead.')\n",
        "    device = torch.device(\"cpu\")"
      ],
      "execution_count": null,
      "outputs": [
        {
          "output_type": "stream",
          "text": [
            "There are 1 GPU(s) available.\n",
            "GPU: Tesla P100-PCIE-16GB\n"
          ],
          "name": "stdout"
        }
      ]
    },
    {
      "cell_type": "code",
      "metadata": {
        "id": "IGJW8ZLIJQ_T",
        "colab_type": "code",
        "colab": {
          "base_uri": "https://localhost:8080/",
          "height": 626
        },
        "outputId": "cf033eef-e600-4e36-a166-b0d37fcf1c99"
      },
      "source": [
        "#install transformers. \n",
        "\n",
        "!pip install transformers"
      ],
      "execution_count": null,
      "outputs": [
        {
          "output_type": "stream",
          "text": [
            "Collecting transformers\n",
            "\u001b[?25l  Downloading https://files.pythonhosted.org/packages/27/3c/91ed8f5c4e7ef3227b4119200fc0ed4b4fd965b1f0172021c25701087825/transformers-3.0.2-py3-none-any.whl (769kB)\n",
            "\u001b[K     |████████████████████████████████| 778kB 2.8MB/s \n",
            "\u001b[?25hCollecting tokenizers==0.8.1.rc1\n",
            "\u001b[?25l  Downloading https://files.pythonhosted.org/packages/40/d0/30d5f8d221a0ed981a186c8eb986ce1c94e3a6e87f994eae9f4aa5250217/tokenizers-0.8.1rc1-cp36-cp36m-manylinux1_x86_64.whl (3.0MB)\n",
            "\u001b[K     |████████████████████████████████| 3.0MB 16.3MB/s \n",
            "\u001b[?25hRequirement already satisfied: tqdm>=4.27 in /usr/local/lib/python3.6/dist-packages (from transformers) (4.41.1)\n",
            "Requirement already satisfied: regex!=2019.12.17 in /usr/local/lib/python3.6/dist-packages (from transformers) (2019.12.20)\n",
            "Requirement already satisfied: dataclasses; python_version < \"3.7\" in /usr/local/lib/python3.6/dist-packages (from transformers) (0.7)\n",
            "Collecting sentencepiece!=0.1.92\n",
            "\u001b[?25l  Downloading https://files.pythonhosted.org/packages/d4/a4/d0a884c4300004a78cca907a6ff9a5e9fe4f090f5d95ab341c53d28cbc58/sentencepiece-0.1.91-cp36-cp36m-manylinux1_x86_64.whl (1.1MB)\n",
            "\u001b[K     |████████████████████████████████| 1.1MB 35.7MB/s \n",
            "\u001b[?25hRequirement already satisfied: requests in /usr/local/lib/python3.6/dist-packages (from transformers) (2.23.0)\n",
            "Requirement already satisfied: packaging in /usr/local/lib/python3.6/dist-packages (from transformers) (20.4)\n",
            "Requirement already satisfied: filelock in /usr/local/lib/python3.6/dist-packages (from transformers) (3.0.12)\n",
            "Collecting sacremoses\n",
            "\u001b[?25l  Downloading https://files.pythonhosted.org/packages/7d/34/09d19aff26edcc8eb2a01bed8e98f13a1537005d31e95233fd48216eed10/sacremoses-0.0.43.tar.gz (883kB)\n",
            "\u001b[K     |████████████████████████████████| 890kB 24.1MB/s \n",
            "\u001b[?25hRequirement already satisfied: numpy in /usr/local/lib/python3.6/dist-packages (from transformers) (1.18.5)\n",
            "Requirement already satisfied: idna<3,>=2.5 in /usr/local/lib/python3.6/dist-packages (from requests->transformers) (2.10)\n",
            "Requirement already satisfied: certifi>=2017.4.17 in /usr/local/lib/python3.6/dist-packages (from requests->transformers) (2020.6.20)\n",
            "Requirement already satisfied: chardet<4,>=3.0.2 in /usr/local/lib/python3.6/dist-packages (from requests->transformers) (3.0.4)\n",
            "Requirement already satisfied: urllib3!=1.25.0,!=1.25.1,<1.26,>=1.21.1 in /usr/local/lib/python3.6/dist-packages (from requests->transformers) (1.24.3)\n",
            "Requirement already satisfied: six in /usr/local/lib/python3.6/dist-packages (from packaging->transformers) (1.12.0)\n",
            "Requirement already satisfied: pyparsing>=2.0.2 in /usr/local/lib/python3.6/dist-packages (from packaging->transformers) (2.4.7)\n",
            "Requirement already satisfied: click in /usr/local/lib/python3.6/dist-packages (from sacremoses->transformers) (7.1.2)\n",
            "Requirement already satisfied: joblib in /usr/local/lib/python3.6/dist-packages (from sacremoses->transformers) (0.16.0)\n",
            "Building wheels for collected packages: sacremoses\n",
            "  Building wheel for sacremoses (setup.py) ... \u001b[?25l\u001b[?25hdone\n",
            "  Created wheel for sacremoses: filename=sacremoses-0.0.43-cp36-none-any.whl size=893260 sha256=41061e3e6a520ed2ffd5b162bc5075152a31e3c28bb80abbf27a9fbb9b2192f4\n",
            "  Stored in directory: /root/.cache/pip/wheels/29/3c/fd/7ce5c3f0666dab31a50123635e6fb5e19ceb42ce38d4e58f45\n",
            "Successfully built sacremoses\n",
            "Installing collected packages: tokenizers, sentencepiece, sacremoses, transformers\n",
            "Successfully installed sacremoses-0.0.43 sentencepiece-0.1.91 tokenizers-0.8.1rc1 transformers-3.0.2\n"
          ],
          "name": "stdout"
        }
      ]
    },
    {
      "cell_type": "markdown",
      "metadata": {
        "id": "CjO9g_QsGt6d",
        "colab_type": "text"
      },
      "source": [
        "### Step 3: Create Dataset"
      ]
    },
    {
      "cell_type": "code",
      "metadata": {
        "id": "6DK03Yg2B319",
        "colab_type": "code",
        "colab": {}
      },
      "source": [
        "#Helper Functions\n",
        "\n",
        "import json\n",
        "import pandas as pd\n",
        "import numpy as np\n",
        "\n",
        "# Need a helper function to open each file\n",
        "def open_json(path):\n",
        "    with open(path) as json_file:\n",
        "        temp_json = json.load(json_file)\n",
        "        return temp_json\n",
        "\n",
        "#this will be code if these are impossible or not. \n",
        "def extract_answer_type(file):\n",
        "    data = open_json(file)\n",
        "    impossible = [] #0 = Possible, 1 = Impossible.\n",
        "    for i in range(len(data['data'])):\n",
        "        paragraphs = len(data['data'][i]['paragraphs'])\n",
        "        for j in range(paragraphs):\n",
        "            qas = len(data['data'][i]['paragraphs'][j]['qas'])\n",
        "            for k in range(qas):\n",
        "                if data['data'][i]['paragraphs'][j]['qas'][k]['is_impossible'] == True:\n",
        "                    impossible.append(1)\n",
        "                else:\n",
        "                    impossible.append(0)\n",
        "    return impossible\n",
        "\n",
        "#this will generate the question data\n",
        "#This is done by combining the question and context.\n",
        "def extract_question(file):\n",
        "    data = open_json(file)\n",
        "    text = []\n",
        "    for i in range(len(data['data'])):\n",
        "        paragraphs = len(data['data'][i]['paragraphs'])\n",
        "        for j in range(paragraphs):\n",
        "            context = data['data'][i]['paragraphs'][j]['context']\n",
        "            qas = len(data['data'][i]['paragraphs'][j]['qas'])\n",
        "            for k in range(qas):\n",
        "                question_id = data['data'][i]['paragraphs'][j]['qas'][k]['id']\n",
        "                question = data['data'][i]['paragraphs'][j]['qas'][k]['question']\n",
        "                text.append([question_id, context, question])\n",
        "    return text\n"
      ],
      "execution_count": null,
      "outputs": []
    },
    {
      "cell_type": "code",
      "metadata": {
        "id": "iUNSETcgCPTP",
        "colab_type": "code",
        "colab": {
          "base_uri": "https://localhost:8080/",
          "height": 202
        },
        "outputId": "068c4f30-6aee-41d5-f057-e0f4f3d55192"
      },
      "source": [
        "#create the labels. \n",
        "impossible = extract_answer_type('train-v2.0.json')\n",
        "impossible_df = pd.DataFrame(impossible) \n",
        "impossible_df.head()"
      ],
      "execution_count": null,
      "outputs": [
        {
          "output_type": "execute_result",
          "data": {
            "text/html": [
              "<div>\n",
              "<style scoped>\n",
              "    .dataframe tbody tr th:only-of-type {\n",
              "        vertical-align: middle;\n",
              "    }\n",
              "\n",
              "    .dataframe tbody tr th {\n",
              "        vertical-align: top;\n",
              "    }\n",
              "\n",
              "    .dataframe thead th {\n",
              "        text-align: right;\n",
              "    }\n",
              "</style>\n",
              "<table border=\"1\" class=\"dataframe\">\n",
              "  <thead>\n",
              "    <tr style=\"text-align: right;\">\n",
              "      <th></th>\n",
              "      <th>0</th>\n",
              "    </tr>\n",
              "  </thead>\n",
              "  <tbody>\n",
              "    <tr>\n",
              "      <th>0</th>\n",
              "      <td>0</td>\n",
              "    </tr>\n",
              "    <tr>\n",
              "      <th>1</th>\n",
              "      <td>0</td>\n",
              "    </tr>\n",
              "    <tr>\n",
              "      <th>2</th>\n",
              "      <td>0</td>\n",
              "    </tr>\n",
              "    <tr>\n",
              "      <th>3</th>\n",
              "      <td>0</td>\n",
              "    </tr>\n",
              "    <tr>\n",
              "      <th>4</th>\n",
              "      <td>0</td>\n",
              "    </tr>\n",
              "  </tbody>\n",
              "</table>\n",
              "</div>"
            ],
            "text/plain": [
              "   0\n",
              "0  0\n",
              "1  0\n",
              "2  0\n",
              "3  0\n",
              "4  0"
            ]
          },
          "metadata": {
            "tags": []
          },
          "execution_count": 20
        }
      ]
    },
    {
      "cell_type": "code",
      "metadata": {
        "id": "Oz0YYZgICa76",
        "colab_type": "code",
        "colab": {
          "base_uri": "https://localhost:8080/",
          "height": 202
        },
        "outputId": "b3deaef7-f4f9-47bd-8cb7-2e595bc7b97d"
      },
      "source": [
        "#pull out question data \n",
        "question_text = extract_question('train-v2.0.json')\n",
        "q_df = pd.DataFrame(question_text)\n",
        "q_df.head()"
      ],
      "execution_count": null,
      "outputs": [
        {
          "output_type": "execute_result",
          "data": {
            "text/html": [
              "<div>\n",
              "<style scoped>\n",
              "    .dataframe tbody tr th:only-of-type {\n",
              "        vertical-align: middle;\n",
              "    }\n",
              "\n",
              "    .dataframe tbody tr th {\n",
              "        vertical-align: top;\n",
              "    }\n",
              "\n",
              "    .dataframe thead th {\n",
              "        text-align: right;\n",
              "    }\n",
              "</style>\n",
              "<table border=\"1\" class=\"dataframe\">\n",
              "  <thead>\n",
              "    <tr style=\"text-align: right;\">\n",
              "      <th></th>\n",
              "      <th>0</th>\n",
              "      <th>1</th>\n",
              "      <th>2</th>\n",
              "    </tr>\n",
              "  </thead>\n",
              "  <tbody>\n",
              "    <tr>\n",
              "      <th>0</th>\n",
              "      <td>56be85543aeaaa14008c9063</td>\n",
              "      <td>Beyoncé Giselle Knowles-Carter (/biːˈjɒnseɪ/ b...</td>\n",
              "      <td>When did Beyonce start becoming popular?</td>\n",
              "    </tr>\n",
              "    <tr>\n",
              "      <th>1</th>\n",
              "      <td>56be85543aeaaa14008c9065</td>\n",
              "      <td>Beyoncé Giselle Knowles-Carter (/biːˈjɒnseɪ/ b...</td>\n",
              "      <td>What areas did Beyonce compete in when she was...</td>\n",
              "    </tr>\n",
              "    <tr>\n",
              "      <th>2</th>\n",
              "      <td>56be85543aeaaa14008c9066</td>\n",
              "      <td>Beyoncé Giselle Knowles-Carter (/biːˈjɒnseɪ/ b...</td>\n",
              "      <td>When did Beyonce leave Destiny's Child and bec...</td>\n",
              "    </tr>\n",
              "    <tr>\n",
              "      <th>3</th>\n",
              "      <td>56bf6b0f3aeaaa14008c9601</td>\n",
              "      <td>Beyoncé Giselle Knowles-Carter (/biːˈjɒnseɪ/ b...</td>\n",
              "      <td>In what city and state did Beyonce  grow up?</td>\n",
              "    </tr>\n",
              "    <tr>\n",
              "      <th>4</th>\n",
              "      <td>56bf6b0f3aeaaa14008c9602</td>\n",
              "      <td>Beyoncé Giselle Knowles-Carter (/biːˈjɒnseɪ/ b...</td>\n",
              "      <td>In which decade did Beyonce become famous?</td>\n",
              "    </tr>\n",
              "  </tbody>\n",
              "</table>\n",
              "</div>"
            ],
            "text/plain": [
              "                          0  ...                                                  2\n",
              "0  56be85543aeaaa14008c9063  ...           When did Beyonce start becoming popular?\n",
              "1  56be85543aeaaa14008c9065  ...  What areas did Beyonce compete in when she was...\n",
              "2  56be85543aeaaa14008c9066  ...  When did Beyonce leave Destiny's Child and bec...\n",
              "3  56bf6b0f3aeaaa14008c9601  ...      In what city and state did Beyonce  grow up? \n",
              "4  56bf6b0f3aeaaa14008c9602  ...         In which decade did Beyonce become famous?\n",
              "\n",
              "[5 rows x 3 columns]"
            ]
          },
          "metadata": {
            "tags": []
          },
          "execution_count": 16
        }
      ]
    },
    {
      "cell_type": "code",
      "metadata": {
        "id": "qluYHyKyEC18",
        "colab_type": "code",
        "colab": {}
      },
      "source": [
        "#combine into one data frame and save to CSV.\n",
        "full_df = pd.concat([q_df, impossible_df], axis = 1, sort = False)\n",
        "full_df.columns = ['id', 'context', 'question', 'impossible']\n",
        "full_df.head()\n",
        "full_df.to_csv('train_classification.csv')"
      ],
      "execution_count": null,
      "outputs": []
    },
    {
      "cell_type": "code",
      "metadata": {
        "id": "4KIWPiuRFPcC",
        "colab_type": "code",
        "colab": {}
      },
      "source": [
        "#bring a copy over into my drive so I can pick up here.\n",
        "\n",
        "%cp -R /content/train_classification.csv /content/drive/My\\ Drive/"
      ],
      "execution_count": null,
      "outputs": []
    },
    {
      "cell_type": "code",
      "metadata": {
        "id": "BDFrm_iOKKX8",
        "colab_type": "code",
        "colab": {}
      },
      "source": [
        "#if just picking back off:\n",
        "\n",
        "full_df = pd.read_csv('/content/drive/My Drive/train_classification.csv')"
      ],
      "execution_count": null,
      "outputs": []
    },
    {
      "cell_type": "code",
      "metadata": {
        "id": "1oEo9ZfxK6JB",
        "colab_type": "code",
        "colab": {
          "base_uri": "https://localhost:8080/",
          "height": 34
        },
        "outputId": "d061d928-a0bc-406d-ec0e-69b3b41771c9"
      },
      "source": [
        "# ------ FOR A MINI TRAINING SET ------\n",
        "# mini_df = full_df[:10000]\n",
        "\n",
        "# # #Get the lists of sentences and their labels.\n",
        "# contexts = mini_df.context.values\n",
        "# questions = mini_df.question.values\n",
        "# labels = mini_df.impossible.values\n",
        "\n",
        "# ------ FOR THE FULL  TRAINING SET ------\n",
        "contexts = full_df.context.values\n",
        "questions = full_df.question.values\n",
        "labels = full_df.impossible.values\n",
        "\n",
        "\n",
        "print(labels.shape)"
      ],
      "execution_count": null,
      "outputs": [
        {
          "output_type": "stream",
          "text": [
            "(130319,)\n"
          ],
          "name": "stdout"
        }
      ]
    },
    {
      "cell_type": "markdown",
      "metadata": {
        "id": "rb9nh89wGt9P",
        "colab_type": "text"
      },
      "source": [
        "### Step 4: Tokenize the Text"
      ]
    },
    {
      "cell_type": "code",
      "metadata": {
        "id": "M3uzT8plGwH7",
        "colab_type": "code",
        "colab": {}
      },
      "source": [
        "from transformers import BertTokenizer\n",
        "\n",
        "# Load the BERT tokenizer.\n",
        "tokenizer = BertTokenizer.from_pretrained('bert-base-cased', do_lower_case=False)"
      ],
      "execution_count": null,
      "outputs": []
    },
    {
      "cell_type": "code",
      "metadata": {
        "id": "mpZjpKvSMPMj",
        "colab_type": "code",
        "colab": {
          "base_uri": "https://localhost:8080/",
          "height": 72
        },
        "outputId": "337e78fd-76aa-4c4a-9f97-a06c0de3b0f9"
      },
      "source": [
        "#Because the question and answer are combined, this may result\n",
        "#questions with greater than 512 tokens.\n",
        "\n",
        "# max_len = 0\n",
        "# for sent in contexts:\n",
        "#     input_ids = tokenizer.encode(sent, add_special_tokens=True)\n",
        "#     max_len = max(max_len, len(input_ids))\n",
        "# print('Max sentence length: ', max_len)\n",
        "\n",
        "#Quite a few errors here:  I will have to take the input length to max and truncate. \n"
      ],
      "execution_count": null,
      "outputs": [
        {
          "output_type": "stream",
          "text": [
            "When did Beyonce start becoming popular?\n",
            "Beyoncé Giselle Knowles-Carter (/biːˈjɒnseɪ/ bee-YON-say) (born September 4, 1981) is an American singer, songwriter, record producer and actress. Born and raised in Houston, Texas, she performed in various singing and dancing competitions as a child, and rose to fame in the late 1990s as lead singer of R&B girl-group Destiny's Child. Managed by her father, Mathew Knowles, the group became one of the world's best-selling girl groups of all time. Their hiatus saw the release of Beyoncé's debut album, Dangerously in Love (2003), which established her as a solo artist worldwide, earned five Grammy Awards and featured the Billboard Hot 100 number-one singles \"Crazy in Love\" and \"Baby Boy\".\n"
          ],
          "name": "stdout"
        }
      ]
    },
    {
      "cell_type": "code",
      "metadata": {
        "id": "cskk7ZOfMPYG",
        "colab_type": "code",
        "colab": {
          "base_uri": "https://localhost:8080/",
          "height": 381
        },
        "outputId": "06af5b18-ef85-4157-f6ac-cc96d2f1adbb"
      },
      "source": [
        "# Tokenize all of the sentences and map the tokens to thier word IDs.\n",
        "\n",
        "input_ids = []\n",
        "attention_masks = []\n",
        "\n",
        "#Add the question to the front of the contexts \n",
        "for i in range(len(questions)):\n",
        "    text = (str(questions[i])+' '+str(contexts[i]))\n",
        "\n",
        "    encoded_dict = tokenizer.encode_plus(\n",
        "                        text,\n",
        "                        add_special_tokens = True, # Add '[CLS]' and '[SEP]'\n",
        "                        max_length = 512,           # Take to the max length\n",
        "                        pad_to_max_length = True,\n",
        "                        return_attention_mask = True,   # Construct attn. masks.\n",
        "                        return_tensors = 'pt',\n",
        "                        truncation = True)\n",
        "\n",
        "    # Add the encoded sentence to the list.    \n",
        "    input_ids.append(encoded_dict['input_ids'])\n",
        "    \n",
        "    # And its attention mask (simply differentiates padding from non-padding).\n",
        "    attention_masks.append(encoded_dict['attention_mask'])\n",
        "\n",
        "# Convert the lists into tensors.\n",
        "input_ids = torch.cat(input_ids, dim=0)\n",
        "attention_masks = torch.cat(attention_masks, dim=0)\n",
        "labels = torch.tensor(labels)\n",
        "\n",
        "# # Print sentence 0, now as a list of IDs.\n",
        "# print('Original: ', [0])\n",
        "# print('Token IDs:', input_ids[0])"
      ],
      "execution_count": null,
      "outputs": [
        {
          "output_type": "error",
          "ename": "KeyboardInterrupt",
          "evalue": "ignored",
          "traceback": [
            "\u001b[0;31m---------------------------------------------------------------------------\u001b[0m",
            "\u001b[0;31mKeyboardInterrupt\u001b[0m                         Traceback (most recent call last)",
            "\u001b[0;32m<ipython-input-78-c27d93ed35b0>\u001b[0m in \u001b[0;36m<module>\u001b[0;34m()\u001b[0m\n\u001b[1;32m     15\u001b[0m                         \u001b[0mreturn_attention_mask\u001b[0m \u001b[0;34m=\u001b[0m \u001b[0;32mTrue\u001b[0m\u001b[0;34m,\u001b[0m   \u001b[0;31m# Construct attn. masks.\u001b[0m\u001b[0;34m\u001b[0m\u001b[0;34m\u001b[0m\u001b[0m\n\u001b[1;32m     16\u001b[0m                         \u001b[0mreturn_tensors\u001b[0m \u001b[0;34m=\u001b[0m \u001b[0;34m'pt'\u001b[0m\u001b[0;34m,\u001b[0m\u001b[0;34m\u001b[0m\u001b[0;34m\u001b[0m\u001b[0m\n\u001b[0;32m---> 17\u001b[0;31m                         truncation = True)\n\u001b[0m\u001b[1;32m     18\u001b[0m \u001b[0;34m\u001b[0m\u001b[0m\n\u001b[1;32m     19\u001b[0m     \u001b[0;31m# Add the encoded sentence to the list.\u001b[0m\u001b[0;34m\u001b[0m\u001b[0;34m\u001b[0m\u001b[0;34m\u001b[0m\u001b[0m\n",
            "\u001b[0;32m/usr/local/lib/python3.6/dist-packages/transformers/tokenization_utils_base.py\u001b[0m in \u001b[0;36mencode_plus\u001b[0;34m(self, text, text_pair, add_special_tokens, padding, truncation, max_length, stride, is_pretokenized, pad_to_multiple_of, return_tensors, return_token_type_ids, return_attention_mask, return_overflowing_tokens, return_special_tokens_mask, return_offsets_mapping, return_length, verbose, **kwargs)\u001b[0m\n\u001b[1;32m   1735\u001b[0m             \u001b[0mreturn_length\u001b[0m\u001b[0;34m=\u001b[0m\u001b[0mreturn_length\u001b[0m\u001b[0;34m,\u001b[0m\u001b[0;34m\u001b[0m\u001b[0;34m\u001b[0m\u001b[0m\n\u001b[1;32m   1736\u001b[0m             \u001b[0mverbose\u001b[0m\u001b[0;34m=\u001b[0m\u001b[0mverbose\u001b[0m\u001b[0;34m,\u001b[0m\u001b[0;34m\u001b[0m\u001b[0;34m\u001b[0m\u001b[0m\n\u001b[0;32m-> 1737\u001b[0;31m             \u001b[0;34m**\u001b[0m\u001b[0mkwargs\u001b[0m\u001b[0;34m,\u001b[0m\u001b[0;34m\u001b[0m\u001b[0;34m\u001b[0m\u001b[0m\n\u001b[0m\u001b[1;32m   1738\u001b[0m         )\n\u001b[1;32m   1739\u001b[0m \u001b[0;34m\u001b[0m\u001b[0m\n",
            "\u001b[0;32m/usr/local/lib/python3.6/dist-packages/transformers/tokenization_utils.py\u001b[0m in \u001b[0;36m_encode_plus\u001b[0;34m(self, text, text_pair, add_special_tokens, padding_strategy, truncation_strategy, max_length, stride, is_pretokenized, pad_to_multiple_of, return_tensors, return_token_type_ids, return_attention_mask, return_overflowing_tokens, return_special_tokens_mask, return_offsets_mapping, return_length, verbose, **kwargs)\u001b[0m\n\u001b[1;32m    452\u001b[0m             )\n\u001b[1;32m    453\u001b[0m \u001b[0;34m\u001b[0m\u001b[0m\n\u001b[0;32m--> 454\u001b[0;31m         \u001b[0mfirst_ids\u001b[0m \u001b[0;34m=\u001b[0m \u001b[0mget_input_ids\u001b[0m\u001b[0;34m(\u001b[0m\u001b[0mtext\u001b[0m\u001b[0;34m)\u001b[0m\u001b[0;34m\u001b[0m\u001b[0;34m\u001b[0m\u001b[0m\n\u001b[0m\u001b[1;32m    455\u001b[0m         \u001b[0msecond_ids\u001b[0m \u001b[0;34m=\u001b[0m \u001b[0mget_input_ids\u001b[0m\u001b[0;34m(\u001b[0m\u001b[0mtext_pair\u001b[0m\u001b[0;34m)\u001b[0m \u001b[0;32mif\u001b[0m \u001b[0mtext_pair\u001b[0m \u001b[0;32mis\u001b[0m \u001b[0;32mnot\u001b[0m \u001b[0;32mNone\u001b[0m \u001b[0;32melse\u001b[0m \u001b[0;32mNone\u001b[0m\u001b[0;34m\u001b[0m\u001b[0;34m\u001b[0m\u001b[0m\n\u001b[1;32m    456\u001b[0m \u001b[0;34m\u001b[0m\u001b[0m\n",
            "\u001b[0;32m/usr/local/lib/python3.6/dist-packages/transformers/tokenization_utils.py\u001b[0m in \u001b[0;36mget_input_ids\u001b[0;34m(text)\u001b[0m\n\u001b[1;32m    423\u001b[0m         \u001b[0;32mdef\u001b[0m \u001b[0mget_input_ids\u001b[0m\u001b[0;34m(\u001b[0m\u001b[0mtext\u001b[0m\u001b[0;34m)\u001b[0m\u001b[0;34m:\u001b[0m\u001b[0;34m\u001b[0m\u001b[0;34m\u001b[0m\u001b[0m\n\u001b[1;32m    424\u001b[0m             \u001b[0;32mif\u001b[0m \u001b[0misinstance\u001b[0m\u001b[0;34m(\u001b[0m\u001b[0mtext\u001b[0m\u001b[0;34m,\u001b[0m \u001b[0mstr\u001b[0m\u001b[0;34m)\u001b[0m\u001b[0;34m:\u001b[0m\u001b[0;34m\u001b[0m\u001b[0;34m\u001b[0m\u001b[0m\n\u001b[0;32m--> 425\u001b[0;31m                 \u001b[0mtokens\u001b[0m \u001b[0;34m=\u001b[0m \u001b[0mself\u001b[0m\u001b[0;34m.\u001b[0m\u001b[0mtokenize\u001b[0m\u001b[0;34m(\u001b[0m\u001b[0mtext\u001b[0m\u001b[0;34m,\u001b[0m \u001b[0;34m**\u001b[0m\u001b[0mkwargs\u001b[0m\u001b[0;34m)\u001b[0m\u001b[0;34m\u001b[0m\u001b[0;34m\u001b[0m\u001b[0m\n\u001b[0m\u001b[1;32m    426\u001b[0m                 \u001b[0;32mreturn\u001b[0m \u001b[0mself\u001b[0m\u001b[0;34m.\u001b[0m\u001b[0mconvert_tokens_to_ids\u001b[0m\u001b[0;34m(\u001b[0m\u001b[0mtokens\u001b[0m\u001b[0;34m)\u001b[0m\u001b[0;34m\u001b[0m\u001b[0;34m\u001b[0m\u001b[0m\n\u001b[1;32m    427\u001b[0m             \u001b[0;32melif\u001b[0m \u001b[0misinstance\u001b[0m\u001b[0;34m(\u001b[0m\u001b[0mtext\u001b[0m\u001b[0;34m,\u001b[0m \u001b[0;34m(\u001b[0m\u001b[0mlist\u001b[0m\u001b[0;34m,\u001b[0m \u001b[0mtuple\u001b[0m\u001b[0;34m)\u001b[0m\u001b[0;34m)\u001b[0m \u001b[0;32mand\u001b[0m \u001b[0mlen\u001b[0m\u001b[0;34m(\u001b[0m\u001b[0mtext\u001b[0m\u001b[0;34m)\u001b[0m \u001b[0;34m>\u001b[0m \u001b[0;36m0\u001b[0m \u001b[0;32mand\u001b[0m \u001b[0misinstance\u001b[0m\u001b[0;34m(\u001b[0m\u001b[0mtext\u001b[0m\u001b[0;34m[\u001b[0m\u001b[0;36m0\u001b[0m\u001b[0;34m]\u001b[0m\u001b[0;34m,\u001b[0m \u001b[0mstr\u001b[0m\u001b[0;34m)\u001b[0m\u001b[0;34m:\u001b[0m\u001b[0;34m\u001b[0m\u001b[0;34m\u001b[0m\u001b[0m\n",
            "\u001b[0;32m/usr/local/lib/python3.6/dist-packages/transformers/tokenization_utils.py\u001b[0m in \u001b[0;36mtokenize\u001b[0;34m(self, text, **kwargs)\u001b[0m\n\u001b[1;32m    362\u001b[0m \u001b[0;34m\u001b[0m\u001b[0m\n\u001b[1;32m    363\u001b[0m         \u001b[0mno_split_token\u001b[0m \u001b[0;34m=\u001b[0m \u001b[0mself\u001b[0m\u001b[0;34m.\u001b[0m\u001b[0munique_no_split_tokens\u001b[0m\u001b[0;34m\u001b[0m\u001b[0;34m\u001b[0m\u001b[0m\n\u001b[0;32m--> 364\u001b[0;31m         \u001b[0mtokenized_text\u001b[0m \u001b[0;34m=\u001b[0m \u001b[0msplit_on_tokens\u001b[0m\u001b[0;34m(\u001b[0m\u001b[0mno_split_token\u001b[0m\u001b[0;34m,\u001b[0m \u001b[0mtext\u001b[0m\u001b[0;34m)\u001b[0m\u001b[0;34m\u001b[0m\u001b[0;34m\u001b[0m\u001b[0m\n\u001b[0m\u001b[1;32m    365\u001b[0m         \u001b[0;32mreturn\u001b[0m \u001b[0mtokenized_text\u001b[0m\u001b[0;34m\u001b[0m\u001b[0;34m\u001b[0m\u001b[0m\n\u001b[1;32m    366\u001b[0m \u001b[0;34m\u001b[0m\u001b[0m\n",
            "\u001b[0;32m/usr/local/lib/python3.6/dist-packages/transformers/tokenization_utils.py\u001b[0m in \u001b[0;36msplit_on_tokens\u001b[0;34m(tok_list, text)\u001b[0m\n\u001b[1;32m    356\u001b[0m                     (\n\u001b[1;32m    357\u001b[0m                         \u001b[0mself\u001b[0m\u001b[0;34m.\u001b[0m\u001b[0m_tokenize\u001b[0m\u001b[0;34m(\u001b[0m\u001b[0mtoken\u001b[0m\u001b[0;34m)\u001b[0m \u001b[0;32mif\u001b[0m \u001b[0mtoken\u001b[0m \u001b[0;32mnot\u001b[0m \u001b[0;32min\u001b[0m \u001b[0mself\u001b[0m\u001b[0;34m.\u001b[0m\u001b[0munique_no_split_tokens\u001b[0m \u001b[0;32melse\u001b[0m \u001b[0;34m[\u001b[0m\u001b[0mtoken\u001b[0m\u001b[0;34m]\u001b[0m\u001b[0;34m\u001b[0m\u001b[0;34m\u001b[0m\u001b[0m\n\u001b[0;32m--> 358\u001b[0;31m                         \u001b[0;32mfor\u001b[0m \u001b[0mtoken\u001b[0m \u001b[0;32min\u001b[0m \u001b[0mtokenized_text\u001b[0m\u001b[0;34m\u001b[0m\u001b[0;34m\u001b[0m\u001b[0m\n\u001b[0m\u001b[1;32m    359\u001b[0m                     )\n\u001b[1;32m    360\u001b[0m                 )\n",
            "\u001b[0;32m/usr/local/lib/python3.6/dist-packages/transformers/tokenization_utils.py\u001b[0m in \u001b[0;36m<genexpr>\u001b[0;34m(.0)\u001b[0m\n\u001b[1;32m    356\u001b[0m                     (\n\u001b[1;32m    357\u001b[0m                         \u001b[0mself\u001b[0m\u001b[0;34m.\u001b[0m\u001b[0m_tokenize\u001b[0m\u001b[0;34m(\u001b[0m\u001b[0mtoken\u001b[0m\u001b[0;34m)\u001b[0m \u001b[0;32mif\u001b[0m \u001b[0mtoken\u001b[0m \u001b[0;32mnot\u001b[0m \u001b[0;32min\u001b[0m \u001b[0mself\u001b[0m\u001b[0;34m.\u001b[0m\u001b[0munique_no_split_tokens\u001b[0m \u001b[0;32melse\u001b[0m \u001b[0;34m[\u001b[0m\u001b[0mtoken\u001b[0m\u001b[0;34m]\u001b[0m\u001b[0;34m\u001b[0m\u001b[0;34m\u001b[0m\u001b[0m\n\u001b[0;32m--> 358\u001b[0;31m                         \u001b[0;32mfor\u001b[0m \u001b[0mtoken\u001b[0m \u001b[0;32min\u001b[0m \u001b[0mtokenized_text\u001b[0m\u001b[0;34m\u001b[0m\u001b[0;34m\u001b[0m\u001b[0m\n\u001b[0m\u001b[1;32m    359\u001b[0m                     )\n\u001b[1;32m    360\u001b[0m                 )\n",
            "\u001b[0;32m/usr/local/lib/python3.6/dist-packages/transformers/tokenization_bert.py\u001b[0m in \u001b[0;36m_tokenize\u001b[0;34m(self, text)\u001b[0m\n\u001b[1;32m    209\u001b[0m         \u001b[0msplit_tokens\u001b[0m \u001b[0;34m=\u001b[0m \u001b[0;34m[\u001b[0m\u001b[0;34m]\u001b[0m\u001b[0;34m\u001b[0m\u001b[0;34m\u001b[0m\u001b[0m\n\u001b[1;32m    210\u001b[0m         \u001b[0;32mif\u001b[0m \u001b[0mself\u001b[0m\u001b[0;34m.\u001b[0m\u001b[0mdo_basic_tokenize\u001b[0m\u001b[0;34m:\u001b[0m\u001b[0;34m\u001b[0m\u001b[0;34m\u001b[0m\u001b[0m\n\u001b[0;32m--> 211\u001b[0;31m             \u001b[0;32mfor\u001b[0m \u001b[0mtoken\u001b[0m \u001b[0;32min\u001b[0m \u001b[0mself\u001b[0m\u001b[0;34m.\u001b[0m\u001b[0mbasic_tokenizer\u001b[0m\u001b[0;34m.\u001b[0m\u001b[0mtokenize\u001b[0m\u001b[0;34m(\u001b[0m\u001b[0mtext\u001b[0m\u001b[0;34m,\u001b[0m \u001b[0mnever_split\u001b[0m\u001b[0;34m=\u001b[0m\u001b[0mself\u001b[0m\u001b[0;34m.\u001b[0m\u001b[0mall_special_tokens\u001b[0m\u001b[0;34m)\u001b[0m\u001b[0;34m:\u001b[0m\u001b[0;34m\u001b[0m\u001b[0;34m\u001b[0m\u001b[0m\n\u001b[0m\u001b[1;32m    212\u001b[0m \u001b[0;34m\u001b[0m\u001b[0m\n\u001b[1;32m    213\u001b[0m                 \u001b[0;31m# If the token is part of the never_split set\u001b[0m\u001b[0;34m\u001b[0m\u001b[0;34m\u001b[0m\u001b[0;34m\u001b[0m\u001b[0m\n",
            "\u001b[0;32m/usr/local/lib/python3.6/dist-packages/transformers/tokenization_bert.py\u001b[0m in \u001b[0;36mtokenize\u001b[0;34m(self, text, never_split)\u001b[0m\n\u001b[1;32m    399\u001b[0m                 \u001b[0mtoken\u001b[0m \u001b[0;34m=\u001b[0m \u001b[0mtoken\u001b[0m\u001b[0;34m.\u001b[0m\u001b[0mlower\u001b[0m\u001b[0;34m(\u001b[0m\u001b[0;34m)\u001b[0m\u001b[0;34m\u001b[0m\u001b[0;34m\u001b[0m\u001b[0m\n\u001b[1;32m    400\u001b[0m                 \u001b[0mtoken\u001b[0m \u001b[0;34m=\u001b[0m \u001b[0mself\u001b[0m\u001b[0;34m.\u001b[0m\u001b[0m_run_strip_accents\u001b[0m\u001b[0;34m(\u001b[0m\u001b[0mtoken\u001b[0m\u001b[0;34m)\u001b[0m\u001b[0;34m\u001b[0m\u001b[0;34m\u001b[0m\u001b[0m\n\u001b[0;32m--> 401\u001b[0;31m             \u001b[0msplit_tokens\u001b[0m\u001b[0;34m.\u001b[0m\u001b[0mextend\u001b[0m\u001b[0;34m(\u001b[0m\u001b[0mself\u001b[0m\u001b[0;34m.\u001b[0m\u001b[0m_run_split_on_punc\u001b[0m\u001b[0;34m(\u001b[0m\u001b[0mtoken\u001b[0m\u001b[0;34m,\u001b[0m \u001b[0mnever_split\u001b[0m\u001b[0;34m)\u001b[0m\u001b[0;34m)\u001b[0m\u001b[0;34m\u001b[0m\u001b[0;34m\u001b[0m\u001b[0m\n\u001b[0m\u001b[1;32m    402\u001b[0m \u001b[0;34m\u001b[0m\u001b[0m\n\u001b[1;32m    403\u001b[0m         \u001b[0moutput_tokens\u001b[0m \u001b[0;34m=\u001b[0m \u001b[0mwhitespace_tokenize\u001b[0m\u001b[0;34m(\u001b[0m\u001b[0;34m\" \"\u001b[0m\u001b[0;34m.\u001b[0m\u001b[0mjoin\u001b[0m\u001b[0;34m(\u001b[0m\u001b[0msplit_tokens\u001b[0m\u001b[0;34m)\u001b[0m\u001b[0;34m)\u001b[0m\u001b[0;34m\u001b[0m\u001b[0;34m\u001b[0m\u001b[0m\n",
            "\u001b[0;32m/usr/local/lib/python3.6/dist-packages/transformers/tokenization_bert.py\u001b[0m in \u001b[0;36m_run_split_on_punc\u001b[0;34m(self, text, never_split)\u001b[0m\n\u001b[1;32m    425\u001b[0m         \u001b[0;32mwhile\u001b[0m \u001b[0mi\u001b[0m \u001b[0;34m<\u001b[0m \u001b[0mlen\u001b[0m\u001b[0;34m(\u001b[0m\u001b[0mchars\u001b[0m\u001b[0;34m)\u001b[0m\u001b[0;34m:\u001b[0m\u001b[0;34m\u001b[0m\u001b[0;34m\u001b[0m\u001b[0m\n\u001b[1;32m    426\u001b[0m             \u001b[0mchar\u001b[0m \u001b[0;34m=\u001b[0m \u001b[0mchars\u001b[0m\u001b[0;34m[\u001b[0m\u001b[0mi\u001b[0m\u001b[0;34m]\u001b[0m\u001b[0;34m\u001b[0m\u001b[0;34m\u001b[0m\u001b[0m\n\u001b[0;32m--> 427\u001b[0;31m             \u001b[0;32mif\u001b[0m \u001b[0m_is_punctuation\u001b[0m\u001b[0;34m(\u001b[0m\u001b[0mchar\u001b[0m\u001b[0;34m)\u001b[0m\u001b[0;34m:\u001b[0m\u001b[0;34m\u001b[0m\u001b[0;34m\u001b[0m\u001b[0m\n\u001b[0m\u001b[1;32m    428\u001b[0m                 \u001b[0moutput\u001b[0m\u001b[0;34m.\u001b[0m\u001b[0mappend\u001b[0m\u001b[0;34m(\u001b[0m\u001b[0;34m[\u001b[0m\u001b[0mchar\u001b[0m\u001b[0;34m]\u001b[0m\u001b[0;34m)\u001b[0m\u001b[0;34m\u001b[0m\u001b[0;34m\u001b[0m\u001b[0m\n\u001b[1;32m    429\u001b[0m                 \u001b[0mstart_new_word\u001b[0m \u001b[0;34m=\u001b[0m \u001b[0;32mTrue\u001b[0m\u001b[0;34m\u001b[0m\u001b[0;34m\u001b[0m\u001b[0m\n",
            "\u001b[0;32m/usr/local/lib/python3.6/dist-packages/transformers/tokenization_utils.py\u001b[0m in \u001b[0;36m_is_punctuation\u001b[0;34m(char)\u001b[0m\n\u001b[1;32m     79\u001b[0m         \u001b[0;32mreturn\u001b[0m \u001b[0;32mTrue\u001b[0m\u001b[0;34m\u001b[0m\u001b[0;34m\u001b[0m\u001b[0m\n\u001b[1;32m     80\u001b[0m     \u001b[0mcat\u001b[0m \u001b[0;34m=\u001b[0m \u001b[0municodedata\u001b[0m\u001b[0;34m.\u001b[0m\u001b[0mcategory\u001b[0m\u001b[0;34m(\u001b[0m\u001b[0mchar\u001b[0m\u001b[0;34m)\u001b[0m\u001b[0;34m\u001b[0m\u001b[0;34m\u001b[0m\u001b[0m\n\u001b[0;32m---> 81\u001b[0;31m     \u001b[0;32mif\u001b[0m \u001b[0mcat\u001b[0m\u001b[0;34m.\u001b[0m\u001b[0mstartswith\u001b[0m\u001b[0;34m(\u001b[0m\u001b[0;34m\"P\"\u001b[0m\u001b[0;34m)\u001b[0m\u001b[0;34m:\u001b[0m\u001b[0;34m\u001b[0m\u001b[0;34m\u001b[0m\u001b[0m\n\u001b[0m\u001b[1;32m     82\u001b[0m         \u001b[0;32mreturn\u001b[0m \u001b[0;32mTrue\u001b[0m\u001b[0;34m\u001b[0m\u001b[0;34m\u001b[0m\u001b[0m\n\u001b[1;32m     83\u001b[0m     \u001b[0;32mreturn\u001b[0m \u001b[0;32mFalse\u001b[0m\u001b[0;34m\u001b[0m\u001b[0;34m\u001b[0m\u001b[0m\n",
            "\u001b[0;31mKeyboardInterrupt\u001b[0m: "
          ]
        }
      ]
    },
    {
      "cell_type": "code",
      "metadata": {
        "id": "6HhwT3p29VXY",
        "colab_type": "code",
        "colab": {
          "base_uri": "https://localhost:8080/",
          "height": 69
        },
        "outputId": "92ab7190-9d64-4856-8a70-e9a521036195"
      },
      "source": [
        "#save the embeddings since this takes a while to run. \n",
        "\n",
        "torch.save(input_ids, '/content/drive/My Drive/input_ids_512c.pt')\n",
        "torch.save(attention_masks, '/content/drive/My Drive/attn_mask_512c.pt')\n",
        "torch.save(labels, '/content/drive/My Drive/labels_512c.pt')\n",
        "\n",
        "print(input_ids.shape)\n",
        "print(attention_masks.shape)\n",
        "print(labels.shape)\n"
      ],
      "execution_count": null,
      "outputs": [
        {
          "output_type": "stream",
          "text": [
            "torch.Size([130319, 512])\n",
            "torch.Size([130319, 512])\n",
            "torch.Size([130319])\n"
          ],
          "name": "stdout"
        }
      ]
    },
    {
      "cell_type": "code",
      "metadata": {
        "id": "kDwk0uNxxZBY",
        "colab_type": "code",
        "colab": {
          "base_uri": "https://localhost:8080/",
          "height": 69
        },
        "outputId": "261d583d-99b3-476b-e43a-cdacd0822cef"
      },
      "source": [
        "#pick up here by loading them back from my drive. \n",
        "input_ids = torch.load('/content/drive/My Drive/input_ids_512c.pt')\n",
        "attention_masks = torch.load('/content/drive/My Drive/attn_mask_512c.pt')\n",
        "labels = torch.load('/content/drive/My Drive/labels_512c.pt')\n",
        "#sanity check the shape.\n",
        "print(input_ids.size(0))\n",
        "print(attention_masks.size(0))\n",
        "print(labels.size(0))\n",
        "\n"
      ],
      "execution_count": null,
      "outputs": [
        {
          "output_type": "stream",
          "text": [
            "130319\n",
            "130319\n",
            "130319\n"
          ],
          "name": "stdout"
        }
      ]
    },
    {
      "cell_type": "code",
      "metadata": {
        "id": "XcKXN6N2Q1c0",
        "colab_type": "code",
        "colab": {
          "base_uri": "https://localhost:8080/",
          "height": 52
        },
        "outputId": "3a2316f5-adfb-47ca-84f1-c53f879c5d46"
      },
      "source": [
        "# Going to do some prevalidation so I can watch the training loss\n",
        "# Before I run it on the dev set. \n",
        "\n",
        "from torch.utils.data import TensorDataset, random_split\n",
        "\n",
        "# Combine the training inputs into a TensorDataset.\n",
        "dataset = TensorDataset(input_ids, attention_masks, labels)\n",
        "\n",
        "# Calculate the number of samples to include in each set.\n",
        "train_size = int(0.9 * len(dataset))\n",
        "val_size = len(dataset) - train_size\n",
        "\n",
        "# Divide the dataset by randomly selecting samples.\n",
        "train_dataset, val_dataset = random_split(dataset, [train_size, val_size])\n",
        "\n",
        "print('{:>5,} training samples'.format(train_size))\n",
        "print('{:>5,} validation samples'.format(val_size))\n",
        "\n",
        "\n"
      ],
      "execution_count": null,
      "outputs": [
        {
          "output_type": "stream",
          "text": [
            "117,287 training samples\n",
            "13,032 validation samples\n"
          ],
          "name": "stdout"
        }
      ]
    },
    {
      "cell_type": "code",
      "metadata": {
        "id": "87q2tTIERXiP",
        "colab_type": "code",
        "colab": {}
      },
      "source": [
        "# Set Up data Loader \n",
        "\n",
        "from torch.utils.data import DataLoader, RandomSampler, SequentialSampler\n",
        "#12 is the biggest batch I could get here on a 16GB GPU.\n",
        "batch_size = 12\n",
        "# Create the DataLoaders for our training and validation sets.\n",
        "train_dataloader = DataLoader(\n",
        "            train_dataset,  # The training samples.\n",
        "            sampler = RandomSampler(train_dataset), # Select batches randomly\n",
        "            batch_size = batch_size)\n",
        "\n",
        "# For validation the order doesn't matter, so we'll just read them sequentially.\n",
        "validation_dataloader = DataLoader(\n",
        "            val_dataset, # The validation samples.\n",
        "            sampler = SequentialSampler(val_dataset), # Pull out batches sequentially.\n",
        "            batch_size = batch_size)\n"
      ],
      "execution_count": null,
      "outputs": []
    },
    {
      "cell_type": "markdown",
      "metadata": {
        "id": "rQIH9OPrGwPq",
        "colab_type": "text"
      },
      "source": [
        "### Step 5: Load model "
      ]
    },
    {
      "cell_type": "code",
      "metadata": {
        "id": "AHs5MU2BGwXg",
        "colab_type": "code",
        "colab": {
          "base_uri": "https://localhost:8080/",
          "height": 1000
        },
        "outputId": "cd18d891-8b9f-49c3-d7a2-a5c65bd6611f"
      },
      "source": [
        "from transformers import BertForSequenceClassification, AdamW, BertConfig\n",
        "\n",
        "# Load BertForSequenceClassification, the pretrained BERT model with a single \n",
        "# linear classification layer on top. \n",
        "model = BertForSequenceClassification.from_pretrained(\n",
        "    \"bert-base-cased\", # Use the 12-layer BERT model.\n",
        "    num_labels = 2, # The number of output labels--2 for binary classification.\n",
        "                    # You can increase this for multi-class tasks.   \n",
        "    output_attentions = False, # Whether the model returns attentions weights.\n",
        "    output_hidden_states = False, # Whether the model returns all hidden-states.\n",
        ")\n",
        "\n",
        "# Tell pytorch to run this model on the GPU.\n",
        "model.cuda()"
      ],
      "execution_count": null,
      "outputs": [
        {
          "output_type": "stream",
          "text": [
            "Some weights of the model checkpoint at bert-base-cased were not used when initializing BertForSequenceClassification: ['cls.predictions.bias', 'cls.predictions.transform.dense.weight', 'cls.predictions.transform.dense.bias', 'cls.predictions.decoder.weight', 'cls.seq_relationship.weight', 'cls.seq_relationship.bias', 'cls.predictions.transform.LayerNorm.weight', 'cls.predictions.transform.LayerNorm.bias']\n",
            "- This IS expected if you are initializing BertForSequenceClassification from the checkpoint of a model trained on another task or with another architecture (e.g. initializing a BertForSequenceClassification model from a BertForPretraining model).\n",
            "- This IS NOT expected if you are initializing BertForSequenceClassification from the checkpoint of a model that you expect to be exactly identical (initializing a BertForSequenceClassification model from a BertForSequenceClassification model).\n",
            "Some weights of BertForSequenceClassification were not initialized from the model checkpoint at bert-base-cased and are newly initialized: ['classifier.weight', 'classifier.bias']\n",
            "You should probably TRAIN this model on a down-stream task to be able to use it for predictions and inference.\n"
          ],
          "name": "stderr"
        },
        {
          "output_type": "execute_result",
          "data": {
            "text/plain": [
              "BertForSequenceClassification(\n",
              "  (bert): BertModel(\n",
              "    (embeddings): BertEmbeddings(\n",
              "      (word_embeddings): Embedding(28996, 768, padding_idx=0)\n",
              "      (position_embeddings): Embedding(512, 768)\n",
              "      (token_type_embeddings): Embedding(2, 768)\n",
              "      (LayerNorm): LayerNorm((768,), eps=1e-12, elementwise_affine=True)\n",
              "      (dropout): Dropout(p=0.1, inplace=False)\n",
              "    )\n",
              "    (encoder): BertEncoder(\n",
              "      (layer): ModuleList(\n",
              "        (0): BertLayer(\n",
              "          (attention): BertAttention(\n",
              "            (self): BertSelfAttention(\n",
              "              (query): Linear(in_features=768, out_features=768, bias=True)\n",
              "              (key): Linear(in_features=768, out_features=768, bias=True)\n",
              "              (value): Linear(in_features=768, out_features=768, bias=True)\n",
              "              (dropout): Dropout(p=0.1, inplace=False)\n",
              "            )\n",
              "            (output): BertSelfOutput(\n",
              "              (dense): Linear(in_features=768, out_features=768, bias=True)\n",
              "              (LayerNorm): LayerNorm((768,), eps=1e-12, elementwise_affine=True)\n",
              "              (dropout): Dropout(p=0.1, inplace=False)\n",
              "            )\n",
              "          )\n",
              "          (intermediate): BertIntermediate(\n",
              "            (dense): Linear(in_features=768, out_features=3072, bias=True)\n",
              "          )\n",
              "          (output): BertOutput(\n",
              "            (dense): Linear(in_features=3072, out_features=768, bias=True)\n",
              "            (LayerNorm): LayerNorm((768,), eps=1e-12, elementwise_affine=True)\n",
              "            (dropout): Dropout(p=0.1, inplace=False)\n",
              "          )\n",
              "        )\n",
              "        (1): BertLayer(\n",
              "          (attention): BertAttention(\n",
              "            (self): BertSelfAttention(\n",
              "              (query): Linear(in_features=768, out_features=768, bias=True)\n",
              "              (key): Linear(in_features=768, out_features=768, bias=True)\n",
              "              (value): Linear(in_features=768, out_features=768, bias=True)\n",
              "              (dropout): Dropout(p=0.1, inplace=False)\n",
              "            )\n",
              "            (output): BertSelfOutput(\n",
              "              (dense): Linear(in_features=768, out_features=768, bias=True)\n",
              "              (LayerNorm): LayerNorm((768,), eps=1e-12, elementwise_affine=True)\n",
              "              (dropout): Dropout(p=0.1, inplace=False)\n",
              "            )\n",
              "          )\n",
              "          (intermediate): BertIntermediate(\n",
              "            (dense): Linear(in_features=768, out_features=3072, bias=True)\n",
              "          )\n",
              "          (output): BertOutput(\n",
              "            (dense): Linear(in_features=3072, out_features=768, bias=True)\n",
              "            (LayerNorm): LayerNorm((768,), eps=1e-12, elementwise_affine=True)\n",
              "            (dropout): Dropout(p=0.1, inplace=False)\n",
              "          )\n",
              "        )\n",
              "        (2): BertLayer(\n",
              "          (attention): BertAttention(\n",
              "            (self): BertSelfAttention(\n",
              "              (query): Linear(in_features=768, out_features=768, bias=True)\n",
              "              (key): Linear(in_features=768, out_features=768, bias=True)\n",
              "              (value): Linear(in_features=768, out_features=768, bias=True)\n",
              "              (dropout): Dropout(p=0.1, inplace=False)\n",
              "            )\n",
              "            (output): BertSelfOutput(\n",
              "              (dense): Linear(in_features=768, out_features=768, bias=True)\n",
              "              (LayerNorm): LayerNorm((768,), eps=1e-12, elementwise_affine=True)\n",
              "              (dropout): Dropout(p=0.1, inplace=False)\n",
              "            )\n",
              "          )\n",
              "          (intermediate): BertIntermediate(\n",
              "            (dense): Linear(in_features=768, out_features=3072, bias=True)\n",
              "          )\n",
              "          (output): BertOutput(\n",
              "            (dense): Linear(in_features=3072, out_features=768, bias=True)\n",
              "            (LayerNorm): LayerNorm((768,), eps=1e-12, elementwise_affine=True)\n",
              "            (dropout): Dropout(p=0.1, inplace=False)\n",
              "          )\n",
              "        )\n",
              "        (3): BertLayer(\n",
              "          (attention): BertAttention(\n",
              "            (self): BertSelfAttention(\n",
              "              (query): Linear(in_features=768, out_features=768, bias=True)\n",
              "              (key): Linear(in_features=768, out_features=768, bias=True)\n",
              "              (value): Linear(in_features=768, out_features=768, bias=True)\n",
              "              (dropout): Dropout(p=0.1, inplace=False)\n",
              "            )\n",
              "            (output): BertSelfOutput(\n",
              "              (dense): Linear(in_features=768, out_features=768, bias=True)\n",
              "              (LayerNorm): LayerNorm((768,), eps=1e-12, elementwise_affine=True)\n",
              "              (dropout): Dropout(p=0.1, inplace=False)\n",
              "            )\n",
              "          )\n",
              "          (intermediate): BertIntermediate(\n",
              "            (dense): Linear(in_features=768, out_features=3072, bias=True)\n",
              "          )\n",
              "          (output): BertOutput(\n",
              "            (dense): Linear(in_features=3072, out_features=768, bias=True)\n",
              "            (LayerNorm): LayerNorm((768,), eps=1e-12, elementwise_affine=True)\n",
              "            (dropout): Dropout(p=0.1, inplace=False)\n",
              "          )\n",
              "        )\n",
              "        (4): BertLayer(\n",
              "          (attention): BertAttention(\n",
              "            (self): BertSelfAttention(\n",
              "              (query): Linear(in_features=768, out_features=768, bias=True)\n",
              "              (key): Linear(in_features=768, out_features=768, bias=True)\n",
              "              (value): Linear(in_features=768, out_features=768, bias=True)\n",
              "              (dropout): Dropout(p=0.1, inplace=False)\n",
              "            )\n",
              "            (output): BertSelfOutput(\n",
              "              (dense): Linear(in_features=768, out_features=768, bias=True)\n",
              "              (LayerNorm): LayerNorm((768,), eps=1e-12, elementwise_affine=True)\n",
              "              (dropout): Dropout(p=0.1, inplace=False)\n",
              "            )\n",
              "          )\n",
              "          (intermediate): BertIntermediate(\n",
              "            (dense): Linear(in_features=768, out_features=3072, bias=True)\n",
              "          )\n",
              "          (output): BertOutput(\n",
              "            (dense): Linear(in_features=3072, out_features=768, bias=True)\n",
              "            (LayerNorm): LayerNorm((768,), eps=1e-12, elementwise_affine=True)\n",
              "            (dropout): Dropout(p=0.1, inplace=False)\n",
              "          )\n",
              "        )\n",
              "        (5): BertLayer(\n",
              "          (attention): BertAttention(\n",
              "            (self): BertSelfAttention(\n",
              "              (query): Linear(in_features=768, out_features=768, bias=True)\n",
              "              (key): Linear(in_features=768, out_features=768, bias=True)\n",
              "              (value): Linear(in_features=768, out_features=768, bias=True)\n",
              "              (dropout): Dropout(p=0.1, inplace=False)\n",
              "            )\n",
              "            (output): BertSelfOutput(\n",
              "              (dense): Linear(in_features=768, out_features=768, bias=True)\n",
              "              (LayerNorm): LayerNorm((768,), eps=1e-12, elementwise_affine=True)\n",
              "              (dropout): Dropout(p=0.1, inplace=False)\n",
              "            )\n",
              "          )\n",
              "          (intermediate): BertIntermediate(\n",
              "            (dense): Linear(in_features=768, out_features=3072, bias=True)\n",
              "          )\n",
              "          (output): BertOutput(\n",
              "            (dense): Linear(in_features=3072, out_features=768, bias=True)\n",
              "            (LayerNorm): LayerNorm((768,), eps=1e-12, elementwise_affine=True)\n",
              "            (dropout): Dropout(p=0.1, inplace=False)\n",
              "          )\n",
              "        )\n",
              "        (6): BertLayer(\n",
              "          (attention): BertAttention(\n",
              "            (self): BertSelfAttention(\n",
              "              (query): Linear(in_features=768, out_features=768, bias=True)\n",
              "              (key): Linear(in_features=768, out_features=768, bias=True)\n",
              "              (value): Linear(in_features=768, out_features=768, bias=True)\n",
              "              (dropout): Dropout(p=0.1, inplace=False)\n",
              "            )\n",
              "            (output): BertSelfOutput(\n",
              "              (dense): Linear(in_features=768, out_features=768, bias=True)\n",
              "              (LayerNorm): LayerNorm((768,), eps=1e-12, elementwise_affine=True)\n",
              "              (dropout): Dropout(p=0.1, inplace=False)\n",
              "            )\n",
              "          )\n",
              "          (intermediate): BertIntermediate(\n",
              "            (dense): Linear(in_features=768, out_features=3072, bias=True)\n",
              "          )\n",
              "          (output): BertOutput(\n",
              "            (dense): Linear(in_features=3072, out_features=768, bias=True)\n",
              "            (LayerNorm): LayerNorm((768,), eps=1e-12, elementwise_affine=True)\n",
              "            (dropout): Dropout(p=0.1, inplace=False)\n",
              "          )\n",
              "        )\n",
              "        (7): BertLayer(\n",
              "          (attention): BertAttention(\n",
              "            (self): BertSelfAttention(\n",
              "              (query): Linear(in_features=768, out_features=768, bias=True)\n",
              "              (key): Linear(in_features=768, out_features=768, bias=True)\n",
              "              (value): Linear(in_features=768, out_features=768, bias=True)\n",
              "              (dropout): Dropout(p=0.1, inplace=False)\n",
              "            )\n",
              "            (output): BertSelfOutput(\n",
              "              (dense): Linear(in_features=768, out_features=768, bias=True)\n",
              "              (LayerNorm): LayerNorm((768,), eps=1e-12, elementwise_affine=True)\n",
              "              (dropout): Dropout(p=0.1, inplace=False)\n",
              "            )\n",
              "          )\n",
              "          (intermediate): BertIntermediate(\n",
              "            (dense): Linear(in_features=768, out_features=3072, bias=True)\n",
              "          )\n",
              "          (output): BertOutput(\n",
              "            (dense): Linear(in_features=3072, out_features=768, bias=True)\n",
              "            (LayerNorm): LayerNorm((768,), eps=1e-12, elementwise_affine=True)\n",
              "            (dropout): Dropout(p=0.1, inplace=False)\n",
              "          )\n",
              "        )\n",
              "        (8): BertLayer(\n",
              "          (attention): BertAttention(\n",
              "            (self): BertSelfAttention(\n",
              "              (query): Linear(in_features=768, out_features=768, bias=True)\n",
              "              (key): Linear(in_features=768, out_features=768, bias=True)\n",
              "              (value): Linear(in_features=768, out_features=768, bias=True)\n",
              "              (dropout): Dropout(p=0.1, inplace=False)\n",
              "            )\n",
              "            (output): BertSelfOutput(\n",
              "              (dense): Linear(in_features=768, out_features=768, bias=True)\n",
              "              (LayerNorm): LayerNorm((768,), eps=1e-12, elementwise_affine=True)\n",
              "              (dropout): Dropout(p=0.1, inplace=False)\n",
              "            )\n",
              "          )\n",
              "          (intermediate): BertIntermediate(\n",
              "            (dense): Linear(in_features=768, out_features=3072, bias=True)\n",
              "          )\n",
              "          (output): BertOutput(\n",
              "            (dense): Linear(in_features=3072, out_features=768, bias=True)\n",
              "            (LayerNorm): LayerNorm((768,), eps=1e-12, elementwise_affine=True)\n",
              "            (dropout): Dropout(p=0.1, inplace=False)\n",
              "          )\n",
              "        )\n",
              "        (9): BertLayer(\n",
              "          (attention): BertAttention(\n",
              "            (self): BertSelfAttention(\n",
              "              (query): Linear(in_features=768, out_features=768, bias=True)\n",
              "              (key): Linear(in_features=768, out_features=768, bias=True)\n",
              "              (value): Linear(in_features=768, out_features=768, bias=True)\n",
              "              (dropout): Dropout(p=0.1, inplace=False)\n",
              "            )\n",
              "            (output): BertSelfOutput(\n",
              "              (dense): Linear(in_features=768, out_features=768, bias=True)\n",
              "              (LayerNorm): LayerNorm((768,), eps=1e-12, elementwise_affine=True)\n",
              "              (dropout): Dropout(p=0.1, inplace=False)\n",
              "            )\n",
              "          )\n",
              "          (intermediate): BertIntermediate(\n",
              "            (dense): Linear(in_features=768, out_features=3072, bias=True)\n",
              "          )\n",
              "          (output): BertOutput(\n",
              "            (dense): Linear(in_features=3072, out_features=768, bias=True)\n",
              "            (LayerNorm): LayerNorm((768,), eps=1e-12, elementwise_affine=True)\n",
              "            (dropout): Dropout(p=0.1, inplace=False)\n",
              "          )\n",
              "        )\n",
              "        (10): BertLayer(\n",
              "          (attention): BertAttention(\n",
              "            (self): BertSelfAttention(\n",
              "              (query): Linear(in_features=768, out_features=768, bias=True)\n",
              "              (key): Linear(in_features=768, out_features=768, bias=True)\n",
              "              (value): Linear(in_features=768, out_features=768, bias=True)\n",
              "              (dropout): Dropout(p=0.1, inplace=False)\n",
              "            )\n",
              "            (output): BertSelfOutput(\n",
              "              (dense): Linear(in_features=768, out_features=768, bias=True)\n",
              "              (LayerNorm): LayerNorm((768,), eps=1e-12, elementwise_affine=True)\n",
              "              (dropout): Dropout(p=0.1, inplace=False)\n",
              "            )\n",
              "          )\n",
              "          (intermediate): BertIntermediate(\n",
              "            (dense): Linear(in_features=768, out_features=3072, bias=True)\n",
              "          )\n",
              "          (output): BertOutput(\n",
              "            (dense): Linear(in_features=3072, out_features=768, bias=True)\n",
              "            (LayerNorm): LayerNorm((768,), eps=1e-12, elementwise_affine=True)\n",
              "            (dropout): Dropout(p=0.1, inplace=False)\n",
              "          )\n",
              "        )\n",
              "        (11): BertLayer(\n",
              "          (attention): BertAttention(\n",
              "            (self): BertSelfAttention(\n",
              "              (query): Linear(in_features=768, out_features=768, bias=True)\n",
              "              (key): Linear(in_features=768, out_features=768, bias=True)\n",
              "              (value): Linear(in_features=768, out_features=768, bias=True)\n",
              "              (dropout): Dropout(p=0.1, inplace=False)\n",
              "            )\n",
              "            (output): BertSelfOutput(\n",
              "              (dense): Linear(in_features=768, out_features=768, bias=True)\n",
              "              (LayerNorm): LayerNorm((768,), eps=1e-12, elementwise_affine=True)\n",
              "              (dropout): Dropout(p=0.1, inplace=False)\n",
              "            )\n",
              "          )\n",
              "          (intermediate): BertIntermediate(\n",
              "            (dense): Linear(in_features=768, out_features=3072, bias=True)\n",
              "          )\n",
              "          (output): BertOutput(\n",
              "            (dense): Linear(in_features=3072, out_features=768, bias=True)\n",
              "            (LayerNorm): LayerNorm((768,), eps=1e-12, elementwise_affine=True)\n",
              "            (dropout): Dropout(p=0.1, inplace=False)\n",
              "          )\n",
              "        )\n",
              "      )\n",
              "    )\n",
              "    (pooler): BertPooler(\n",
              "      (dense): Linear(in_features=768, out_features=768, bias=True)\n",
              "      (activation): Tanh()\n",
              "    )\n",
              "  )\n",
              "  (dropout): Dropout(p=0.1, inplace=False)\n",
              "  (classifier): Linear(in_features=768, out_features=2, bias=True)\n",
              ")"
            ]
          },
          "metadata": {
            "tags": []
          },
          "execution_count": 82
        }
      ]
    },
    {
      "cell_type": "code",
      "metadata": {
        "id": "TclciTB6QYRW",
        "colab_type": "code",
        "colab": {}
      },
      "source": [
        "# Set optimizer \n",
        "optimizer = AdamW(model.parameters(),\n",
        "                  lr = 1e-5, # args.learning_rate \n",
        "                  eps = 1e-8 # args.adam_epsilon  \n",
        "                )"
      ],
      "execution_count": null,
      "outputs": []
    },
    {
      "cell_type": "code",
      "metadata": {
        "id": "Ilcv__q4QnwV",
        "colab_type": "code",
        "colab": {}
      },
      "source": [
        "from transformers import get_linear_schedule_with_warmup\n",
        "\n",
        "epochs = 2\n",
        "# Total number of training steps is [number of batches] x [number of epochs]. \n",
        "total_steps = len(train_dataloader) * epochs\n",
        "\n",
        "# Create the learning rate scheduler.\n",
        "scheduler = get_linear_schedule_with_warmup(optimizer, \n",
        "                                            num_warmup_steps = 0, # Default value in run_glue.py\n",
        "                                            num_training_steps = total_steps)"
      ],
      "execution_count": null,
      "outputs": []
    },
    {
      "cell_type": "markdown",
      "metadata": {
        "id": "o_MKLf-2GweR",
        "colab_type": "text"
      },
      "source": [
        "### Step 6: Training loop"
      ]
    },
    {
      "cell_type": "code",
      "metadata": {
        "id": "SNPEr_8VR-AZ",
        "colab_type": "code",
        "colab": {}
      },
      "source": [
        "# Helper functions for training and timing.\n",
        "\n",
        "import numpy as np\n",
        "import time\n",
        "import datetime\n",
        "import random\n",
        "import matplotlib.pyplot as plt\n",
        "% matplotlib inline\n",
        "import seaborn as sns\n",
        "import os\n",
        "\n",
        "# Function to calculate the accuracy of our predictions vs labels\n",
        "def flat_accuracy(preds, labels):\n",
        "    pred_flat = np.argmax(preds, axis=1).flatten()\n",
        "    labels_flat = labels.flatten()\n",
        "    return np.sum(pred_flat == labels_flat) / len(labels_flat)\n",
        "\n",
        "# Format as hh:mm:ss\n",
        "def format_time(elapsed):\n",
        "    elapsed_rounded = int(round((elapsed)))\n",
        "    return str(datetime.timedelta(seconds=elapsed_rounded))"
      ],
      "execution_count": null,
      "outputs": []
    },
    {
      "cell_type": "code",
      "metadata": {
        "id": "0GRqP3KDgXWJ",
        "colab_type": "code",
        "colab": {
          "base_uri": "https://localhost:8080/",
          "height": 262
        },
        "outputId": "47b08d09-7ee3-45a9-a021-cc29e9648e22"
      },
      "source": [
        "# memory footprint support libraries/code\n",
        "# this is to check to see what my memory looks like since \n",
        "# memory issues tend to cause this whole thing to crash. \n",
        "\n",
        "!ln -sf /opt/bin/nvidia-smi /usr/bin/nvidia-smi\n",
        "!pip install gputil\n",
        "!pip install psutil\n",
        "!pip install humanize\n",
        "\n",
        "import psutil\n",
        "import humanize\n",
        "import os\n",
        "import GPUtil as GPU\n",
        "\n",
        "GPUs = GPU.getGPUs()\n",
        "# XXX: only one GPU on Colab and isn’t guaranteed\n",
        "gpu = GPUs[0]\n",
        "def printm():\n",
        "    process = psutil.Process(os.getpid())\n",
        "    print(\"Gen RAM Free: \" + humanize.naturalsize(psutil.virtual_memory().available), \" |     Proc size: \" + humanize.naturalsize(process.memory_info().rss))\n",
        "    print(\"GPU RAM Free: {0:.0f}MB | Used: {1:.0f}MB | Util {2:3.0f}% | Total     {3:.0f}MB\".format(gpu.memoryFree, gpu.memoryUsed, gpu.memoryUtil*100, gpu.memoryTotal))\n",
        "printm()"
      ],
      "execution_count": null,
      "outputs": [
        {
          "output_type": "stream",
          "text": [
            "Collecting gputil\n",
            "  Downloading https://files.pythonhosted.org/packages/ed/0e/5c61eedde9f6c87713e89d794f01e378cfd9565847d4576fa627d758c554/GPUtil-1.4.0.tar.gz\n",
            "Building wheels for collected packages: gputil\n",
            "  Building wheel for gputil (setup.py) ... \u001b[?25l\u001b[?25hdone\n",
            "  Created wheel for gputil: filename=GPUtil-1.4.0-cp36-none-any.whl size=7413 sha256=8371ad299b82d8a3b25759b229f315337a4098a67b064a33b64d1a457cbb373b\n",
            "  Stored in directory: /root/.cache/pip/wheels/3d/77/07/80562de4bb0786e5ea186911a2c831fdd0018bda69beab71fd\n",
            "Successfully built gputil\n",
            "Installing collected packages: gputil\n",
            "Successfully installed gputil-1.4.0\n",
            "Requirement already satisfied: psutil in /usr/local/lib/python3.6/dist-packages (5.4.8)\n",
            "Requirement already satisfied: humanize in /usr/local/lib/python3.6/dist-packages (0.5.1)\n",
            "Gen RAM Free: 24.2 GB  |     Proc size: 4.3 GB\n",
            "GPU RAM Free: 15015MB | Used: 1265MB | Util   8% | Total     16280MB\n"
          ],
          "name": "stdout"
        }
      ]
    },
    {
      "cell_type": "code",
      "metadata": {
        "id": "xpZVRPsMoZt7",
        "colab_type": "code",
        "colab": {
          "base_uri": "https://localhost:8080/",
          "height": 1000
        },
        "outputId": "455f2181-ae31-483b-b9ef-4735b49c785a"
      },
      "source": [
        "#full training loop\n",
        "\n",
        "import random\n",
        "import numpy as np\n",
        "\n",
        "seed_val = 42\n",
        "random.seed(seed_val)\n",
        "np.random.seed(seed_val)\n",
        "torch.manual_seed(seed_val)\n",
        "torch.cuda.manual_seed_all(seed_val)\n",
        "\n",
        "# We'll store a number of quantities such as training and validation loss, \n",
        "# validation accuracy, and timings.\n",
        "training_stats = []\n",
        "\n",
        "# Measure the total training time for the whole run.\n",
        "total_t0 = time.time()\n",
        "\n",
        "# For each epoch...\n",
        "for epoch_i in range(0, epochs):\n",
        "    \n",
        "    print('======== Epoch {:} / {:} ========'.format(epoch_i + 1, epochs))\n",
        "    print('Training...')\n",
        "\n",
        "    # Measure how long the training epoch takes.\n",
        "    t0 = time.time()\n",
        "\n",
        "    # Reset the total loss for this epoch.\n",
        "    total_train_loss = 0\n",
        "    model.train()\n",
        "\n",
        "    # For each batch of training data...\n",
        "    for step, batch in enumerate(train_dataloader):\n",
        "\n",
        "        # Progress update every 40 batches.\n",
        "        if step % 40 == 0 and not step == 0:\n",
        "            # Calculate elapsed time in minutes.\n",
        "            elapsed = format_time(time.time() - t0)\n",
        "            \n",
        "            # Report progress.\n",
        "            print('  Batch {:>5,}  of  {:>5,}.    Elapsed: {:}.'.format(step, len(train_dataloader), elapsed))\n",
        "\n",
        "        b_input_ids = batch[0].to(device)\n",
        "        b_input_mask = batch[1].to(device)\n",
        "        b_labels = batch[2].to(device)\n",
        "\n",
        "        model.zero_grad()        \n",
        "\n",
        "        loss, logits = model(b_input_ids, \n",
        "                             token_type_ids=None, \n",
        "                             attention_mask=b_input_mask, \n",
        "                             labels = b_labels)\n",
        "\n",
        "        total_train_loss += loss.item()\n",
        "\n",
        "        # Perform a backward pass to calculate the gradients.\n",
        "        loss.backward()\n",
        "\n",
        "        # Clip the norm of the gradients to 1.0.\n",
        "        # This is to help prevent the \"exploding gradients\" problem.\n",
        "        torch.nn.utils.clip_grad_norm_(model.parameters(), 1.0)\n",
        "        optimizer.step()\n",
        "        scheduler.step()\n",
        "\n",
        "    # Calculate the average loss over all of the batches.\n",
        "    avg_train_loss = total_train_loss / len(train_dataloader)            \n",
        "    \n",
        "    # Measure how long this epoch took.\n",
        "    training_time = format_time(time.time() - t0)\n",
        "\n",
        "    print(\"  Average training loss: {0:.2f}\".format(avg_train_loss))\n",
        "    print(\"  Training epcoh took: {:}\".format(training_time))\n",
        "    print(\"Running Validation...\")\n",
        "\n",
        "    t0 = time.time()\n",
        "\n",
        "    # Put the model in evaluation mode--the dropout layers behave differently\n",
        "    # during evaluation.\n",
        "    model.eval()\n",
        "\n",
        "    # Tracking variables \n",
        "    total_eval_accuracy = 0\n",
        "    total_eval_loss = 0\n",
        "    nb_eval_steps = 0\n",
        "\n",
        "    # Evaluate data for one epoch\n",
        "    for batch in validation_dataloader:\n",
        "        \n",
        "        b_input_ids = batch[0].to(device)\n",
        "        b_input_mask = batch[1].to(device)\n",
        "        b_labels = batch[2].to(device)\n",
        "        \n",
        "        # Tell pytorch not to bother with constructing the compute graph during\n",
        "        # the forward pass, since this is only needed for backprop (training).\n",
        "        with torch.no_grad():        \n",
        "            (loss, logits) = model(b_input_ids, \n",
        "                                   token_type_ids=None, \n",
        "                                   attention_mask=b_input_mask,\n",
        "                                   labels=b_labels)\n",
        "            \n",
        "        # Accumulate the validation loss.\n",
        "        total_eval_loss += loss.item()\n",
        "\n",
        "        # Move logits and labels to CPU\n",
        "        logits = logits.detach().cpu().numpy()\n",
        "        label_ids = b_labels.to('cpu').numpy()\n",
        "\n",
        "        # Calculate the accuracy for this batch of test sentences, and\n",
        "        # accumulate it over all batches.\n",
        "        total_eval_accuracy += flat_accuracy(logits, label_ids)\n",
        "        \n",
        "\n",
        "    # Report the final accuracy for this validation run.\n",
        "    avg_val_accuracy = total_eval_accuracy / len(validation_dataloader)\n",
        "    print(\"  Accuracy: {0:.2f}\".format(avg_val_accuracy))\n",
        "\n",
        "    # Calculate the average loss over all of the batches.\n",
        "    avg_val_loss = total_eval_loss / len(validation_dataloader)\n",
        "    \n",
        "    # Measure how long the validation run took.\n",
        "    validation_time = format_time(time.time() - t0)\n",
        "    \n",
        "    print(\"  Validation Loss: {0:.2f}\".format(avg_val_loss))\n",
        "    print(\"  Validation took: {:}\".format(validation_time))\n",
        "\n",
        "    # Record all statistics from this epoch.\n",
        "    training_stats.append(\n",
        "        {\n",
        "            'epoch': epoch_i + 1,\n",
        "            'Training Loss': avg_train_loss,\n",
        "            'Valid. Loss': avg_val_loss,\n",
        "            'Valid. Accur.': avg_val_accuracy,\n",
        "            'Training Time': training_time,\n",
        "            'Validation Time': validation_time\n",
        "        }\n",
        "    )\n",
        "\n",
        "print(\"\")\n",
        "print(\"Training complete!\")\n",
        "\n",
        "print(\"Total training took {:} (h:mm:ss)\".format(format_time(time.time()-total_t0)))"
      ],
      "execution_count": null,
      "outputs": [
        {
          "output_type": "stream",
          "text": [
            "======== Epoch 1 / 2 ========\n",
            "Training...\n",
            "  Batch    40  of  9,774.    Elapsed: 0:00:26.\n",
            "  Batch    80  of  9,774.    Elapsed: 0:00:52.\n",
            "  Batch   120  of  9,774.    Elapsed: 0:01:17.\n",
            "  Batch   160  of  9,774.    Elapsed: 0:01:43.\n",
            "  Batch   200  of  9,774.    Elapsed: 0:02:09.\n",
            "  Batch   240  of  9,774.    Elapsed: 0:02:35.\n",
            "  Batch   280  of  9,774.    Elapsed: 0:03:00.\n",
            "  Batch   320  of  9,774.    Elapsed: 0:03:26.\n",
            "  Batch   360  of  9,774.    Elapsed: 0:03:52.\n",
            "  Batch   400  of  9,774.    Elapsed: 0:04:18.\n",
            "  Batch   440  of  9,774.    Elapsed: 0:04:43.\n",
            "  Batch   480  of  9,774.    Elapsed: 0:05:09.\n",
            "  Batch   520  of  9,774.    Elapsed: 0:05:35.\n",
            "  Batch   560  of  9,774.    Elapsed: 0:06:01.\n",
            "  Batch   600  of  9,774.    Elapsed: 0:06:26.\n",
            "  Batch   640  of  9,774.    Elapsed: 0:06:52.\n",
            "  Batch   680  of  9,774.    Elapsed: 0:07:18.\n",
            "  Batch   720  of  9,774.    Elapsed: 0:07:44.\n",
            "  Batch   760  of  9,774.    Elapsed: 0:08:09.\n",
            "  Batch   800  of  9,774.    Elapsed: 0:08:35.\n",
            "  Batch   840  of  9,774.    Elapsed: 0:09:01.\n",
            "  Batch   880  of  9,774.    Elapsed: 0:09:27.\n",
            "  Batch   920  of  9,774.    Elapsed: 0:09:52.\n",
            "  Batch   960  of  9,774.    Elapsed: 0:10:18.\n",
            "  Batch 1,000  of  9,774.    Elapsed: 0:10:44.\n",
            "  Batch 1,040  of  9,774.    Elapsed: 0:11:10.\n",
            "  Batch 1,080  of  9,774.    Elapsed: 0:11:35.\n",
            "  Batch 1,120  of  9,774.    Elapsed: 0:12:01.\n",
            "  Batch 1,160  of  9,774.    Elapsed: 0:12:27.\n",
            "  Batch 1,200  of  9,774.    Elapsed: 0:12:53.\n",
            "  Batch 1,240  of  9,774.    Elapsed: 0:13:18.\n",
            "  Batch 1,280  of  9,774.    Elapsed: 0:13:44.\n",
            "  Batch 1,320  of  9,774.    Elapsed: 0:14:10.\n",
            "  Batch 1,360  of  9,774.    Elapsed: 0:14:36.\n",
            "  Batch 1,400  of  9,774.    Elapsed: 0:15:01.\n",
            "  Batch 1,440  of  9,774.    Elapsed: 0:15:27.\n",
            "  Batch 1,480  of  9,774.    Elapsed: 0:15:53.\n",
            "  Batch 1,520  of  9,774.    Elapsed: 0:16:19.\n",
            "  Batch 1,560  of  9,774.    Elapsed: 0:16:44.\n",
            "  Batch 1,600  of  9,774.    Elapsed: 0:17:10.\n",
            "  Batch 1,640  of  9,774.    Elapsed: 0:17:36.\n",
            "  Batch 1,680  of  9,774.    Elapsed: 0:18:02.\n",
            "  Batch 1,720  of  9,774.    Elapsed: 0:18:28.\n",
            "  Batch 1,760  of  9,774.    Elapsed: 0:18:53.\n",
            "  Batch 1,800  of  9,774.    Elapsed: 0:19:19.\n",
            "  Batch 1,840  of  9,774.    Elapsed: 0:19:45.\n",
            "  Batch 1,880  of  9,774.    Elapsed: 0:20:10.\n",
            "  Batch 1,920  of  9,774.    Elapsed: 0:20:36.\n",
            "  Batch 1,960  of  9,774.    Elapsed: 0:21:02.\n",
            "  Batch 2,000  of  9,774.    Elapsed: 0:21:28.\n",
            "  Batch 2,040  of  9,774.    Elapsed: 0:21:53.\n",
            "  Batch 2,080  of  9,774.    Elapsed: 0:22:19.\n",
            "  Batch 2,120  of  9,774.    Elapsed: 0:22:45.\n",
            "  Batch 2,160  of  9,774.    Elapsed: 0:23:11.\n",
            "  Batch 2,200  of  9,774.    Elapsed: 0:23:36.\n",
            "  Batch 2,240  of  9,774.    Elapsed: 0:24:02.\n",
            "  Batch 2,280  of  9,774.    Elapsed: 0:24:28.\n",
            "  Batch 2,320  of  9,774.    Elapsed: 0:24:54.\n",
            "  Batch 2,360  of  9,774.    Elapsed: 0:25:19.\n",
            "  Batch 2,400  of  9,774.    Elapsed: 0:25:45.\n",
            "  Batch 2,440  of  9,774.    Elapsed: 0:26:11.\n",
            "  Batch 2,480  of  9,774.    Elapsed: 0:26:37.\n",
            "  Batch 2,520  of  9,774.    Elapsed: 0:27:02.\n",
            "  Batch 2,560  of  9,774.    Elapsed: 0:27:28.\n",
            "  Batch 2,600  of  9,774.    Elapsed: 0:27:54.\n",
            "  Batch 2,640  of  9,774.    Elapsed: 0:28:20.\n",
            "  Batch 2,680  of  9,774.    Elapsed: 0:28:45.\n",
            "  Batch 2,720  of  9,774.    Elapsed: 0:29:11.\n",
            "  Batch 2,760  of  9,774.    Elapsed: 0:29:37.\n",
            "  Batch 2,800  of  9,774.    Elapsed: 0:30:03.\n",
            "  Batch 2,840  of  9,774.    Elapsed: 0:30:28.\n",
            "  Batch 2,880  of  9,774.    Elapsed: 0:30:54.\n",
            "  Batch 2,920  of  9,774.    Elapsed: 0:31:20.\n",
            "  Batch 2,960  of  9,774.    Elapsed: 0:31:46.\n",
            "  Batch 3,000  of  9,774.    Elapsed: 0:32:11.\n",
            "  Batch 3,040  of  9,774.    Elapsed: 0:32:37.\n",
            "  Batch 3,080  of  9,774.    Elapsed: 0:33:03.\n",
            "  Batch 3,120  of  9,774.    Elapsed: 0:33:29.\n",
            "  Batch 3,160  of  9,774.    Elapsed: 0:33:54.\n",
            "  Batch 3,200  of  9,774.    Elapsed: 0:34:20.\n",
            "  Batch 3,240  of  9,774.    Elapsed: 0:34:46.\n",
            "  Batch 3,280  of  9,774.    Elapsed: 0:35:12.\n",
            "  Batch 3,320  of  9,774.    Elapsed: 0:35:37.\n",
            "  Batch 3,360  of  9,774.    Elapsed: 0:36:03.\n",
            "  Batch 3,400  of  9,774.    Elapsed: 0:36:29.\n",
            "  Batch 3,440  of  9,774.    Elapsed: 0:36:55.\n",
            "  Batch 3,480  of  9,774.    Elapsed: 0:37:21.\n",
            "  Batch 3,520  of  9,774.    Elapsed: 0:37:46.\n",
            "  Batch 3,560  of  9,774.    Elapsed: 0:38:12.\n",
            "  Batch 3,600  of  9,774.    Elapsed: 0:38:38.\n",
            "  Batch 3,640  of  9,774.    Elapsed: 0:39:04.\n",
            "  Batch 3,680  of  9,774.    Elapsed: 0:39:29.\n",
            "  Batch 3,720  of  9,774.    Elapsed: 0:39:55.\n",
            "  Batch 3,760  of  9,774.    Elapsed: 0:40:21.\n",
            "  Batch 3,800  of  9,774.    Elapsed: 0:40:47.\n",
            "  Batch 3,840  of  9,774.    Elapsed: 0:41:12.\n",
            "  Batch 3,880  of  9,774.    Elapsed: 0:41:38.\n",
            "  Batch 3,920  of  9,774.    Elapsed: 0:42:04.\n",
            "  Batch 3,960  of  9,774.    Elapsed: 0:42:30.\n",
            "  Batch 4,000  of  9,774.    Elapsed: 0:42:55.\n",
            "  Batch 4,040  of  9,774.    Elapsed: 0:43:21.\n",
            "  Batch 4,080  of  9,774.    Elapsed: 0:43:47.\n",
            "  Batch 4,120  of  9,774.    Elapsed: 0:44:12.\n",
            "  Batch 4,160  of  9,774.    Elapsed: 0:44:38.\n",
            "  Batch 4,200  of  9,774.    Elapsed: 0:45:04.\n",
            "  Batch 4,240  of  9,774.    Elapsed: 0:45:30.\n",
            "  Batch 4,280  of  9,774.    Elapsed: 0:45:56.\n",
            "  Batch 4,320  of  9,774.    Elapsed: 0:46:21.\n",
            "  Batch 4,360  of  9,774.    Elapsed: 0:46:47.\n",
            "  Batch 4,400  of  9,774.    Elapsed: 0:47:13.\n",
            "  Batch 4,440  of  9,774.    Elapsed: 0:47:39.\n",
            "  Batch 4,480  of  9,774.    Elapsed: 0:48:04.\n",
            "  Batch 4,520  of  9,774.    Elapsed: 0:48:30.\n",
            "  Batch 4,560  of  9,774.    Elapsed: 0:48:56.\n",
            "  Batch 4,600  of  9,774.    Elapsed: 0:49:22.\n",
            "  Batch 4,640  of  9,774.    Elapsed: 0:49:47.\n",
            "  Batch 4,680  of  9,774.    Elapsed: 0:50:13.\n",
            "  Batch 4,720  of  9,774.    Elapsed: 0:50:39.\n",
            "  Batch 4,760  of  9,774.    Elapsed: 0:51:05.\n",
            "  Batch 4,800  of  9,774.    Elapsed: 0:51:30.\n",
            "  Batch 4,840  of  9,774.    Elapsed: 0:51:56.\n",
            "  Batch 4,880  of  9,774.    Elapsed: 0:52:22.\n",
            "  Batch 4,920  of  9,774.    Elapsed: 0:52:48.\n",
            "  Batch 4,960  of  9,774.    Elapsed: 0:53:13.\n",
            "  Batch 5,000  of  9,774.    Elapsed: 0:53:39.\n",
            "  Batch 5,040  of  9,774.    Elapsed: 0:54:05.\n",
            "  Batch 5,080  of  9,774.    Elapsed: 0:54:30.\n",
            "  Batch 5,120  of  9,774.    Elapsed: 0:54:56.\n",
            "  Batch 5,160  of  9,774.    Elapsed: 0:55:22.\n",
            "  Batch 5,200  of  9,774.    Elapsed: 0:55:48.\n",
            "  Batch 5,240  of  9,774.    Elapsed: 0:56:14.\n",
            "  Batch 5,280  of  9,774.    Elapsed: 0:56:39.\n",
            "  Batch 5,320  of  9,774.    Elapsed: 0:57:05.\n",
            "  Batch 5,360  of  9,774.    Elapsed: 0:57:31.\n",
            "  Batch 5,400  of  9,774.    Elapsed: 0:57:56.\n",
            "  Batch 5,440  of  9,774.    Elapsed: 0:58:22.\n",
            "  Batch 5,480  of  9,774.    Elapsed: 0:58:48.\n",
            "  Batch 5,520  of  9,774.    Elapsed: 0:59:14.\n",
            "  Batch 5,560  of  9,774.    Elapsed: 0:59:39.\n",
            "  Batch 5,600  of  9,774.    Elapsed: 1:00:05.\n",
            "  Batch 5,640  of  9,774.    Elapsed: 1:00:31.\n",
            "  Batch 5,680  of  9,774.    Elapsed: 1:00:56.\n",
            "  Batch 5,720  of  9,774.    Elapsed: 1:01:22.\n",
            "  Batch 5,760  of  9,774.    Elapsed: 1:01:48.\n",
            "  Batch 5,800  of  9,774.    Elapsed: 1:02:14.\n",
            "  Batch 5,840  of  9,774.    Elapsed: 1:02:40.\n",
            "  Batch 5,880  of  9,774.    Elapsed: 1:03:05.\n",
            "  Batch 5,920  of  9,774.    Elapsed: 1:03:31.\n",
            "  Batch 5,960  of  9,774.    Elapsed: 1:03:57.\n",
            "  Batch 6,000  of  9,774.    Elapsed: 1:04:22.\n",
            "  Batch 6,040  of  9,774.    Elapsed: 1:04:48.\n",
            "  Batch 6,080  of  9,774.    Elapsed: 1:05:14.\n",
            "  Batch 6,120  of  9,774.    Elapsed: 1:05:40.\n",
            "  Batch 6,160  of  9,774.    Elapsed: 1:06:05.\n",
            "  Batch 6,200  of  9,774.    Elapsed: 1:06:31.\n",
            "  Batch 6,240  of  9,774.    Elapsed: 1:06:57.\n",
            "  Batch 6,280  of  9,774.    Elapsed: 1:07:23.\n",
            "  Batch 6,320  of  9,774.    Elapsed: 1:07:48.\n",
            "  Batch 6,360  of  9,774.    Elapsed: 1:08:14.\n",
            "  Batch 6,400  of  9,774.    Elapsed: 1:08:40.\n",
            "  Batch 6,440  of  9,774.    Elapsed: 1:09:06.\n",
            "  Batch 6,480  of  9,774.    Elapsed: 1:09:31.\n",
            "  Batch 6,520  of  9,774.    Elapsed: 1:09:57.\n",
            "  Batch 6,560  of  9,774.    Elapsed: 1:10:23.\n",
            "  Batch 6,600  of  9,774.    Elapsed: 1:10:49.\n",
            "  Batch 6,640  of  9,774.    Elapsed: 1:11:14.\n",
            "  Batch 6,680  of  9,774.    Elapsed: 1:11:40.\n",
            "  Batch 6,720  of  9,774.    Elapsed: 1:12:06.\n",
            "  Batch 6,760  of  9,774.    Elapsed: 1:12:31.\n",
            "  Batch 6,800  of  9,774.    Elapsed: 1:12:57.\n",
            "  Batch 6,840  of  9,774.    Elapsed: 1:13:23.\n",
            "  Batch 6,880  of  9,774.    Elapsed: 1:13:49.\n",
            "  Batch 6,920  of  9,774.    Elapsed: 1:14:14.\n",
            "  Batch 6,960  of  9,774.    Elapsed: 1:14:40.\n",
            "  Batch 7,000  of  9,774.    Elapsed: 1:15:06.\n",
            "  Batch 7,040  of  9,774.    Elapsed: 1:15:32.\n",
            "  Batch 7,080  of  9,774.    Elapsed: 1:15:58.\n",
            "  Batch 7,120  of  9,774.    Elapsed: 1:16:23.\n",
            "  Batch 7,160  of  9,774.    Elapsed: 1:16:49.\n",
            "  Batch 7,200  of  9,774.    Elapsed: 1:17:15.\n",
            "  Batch 7,240  of  9,774.    Elapsed: 1:17:41.\n",
            "  Batch 7,280  of  9,774.    Elapsed: 1:18:06.\n",
            "  Batch 7,320  of  9,774.    Elapsed: 1:18:32.\n",
            "  Batch 7,360  of  9,774.    Elapsed: 1:18:58.\n",
            "  Batch 7,400  of  9,774.    Elapsed: 1:19:24.\n",
            "  Batch 7,440  of  9,774.    Elapsed: 1:19:49.\n",
            "  Batch 7,480  of  9,774.    Elapsed: 1:20:15.\n",
            "  Batch 7,520  of  9,774.    Elapsed: 1:20:41.\n",
            "  Batch 7,560  of  9,774.    Elapsed: 1:21:07.\n",
            "  Batch 7,600  of  9,774.    Elapsed: 1:21:32.\n",
            "  Batch 7,640  of  9,774.    Elapsed: 1:21:58.\n",
            "  Batch 7,680  of  9,774.    Elapsed: 1:22:24.\n",
            "  Batch 7,720  of  9,774.    Elapsed: 1:22:50.\n",
            "  Batch 7,760  of  9,774.    Elapsed: 1:23:16.\n",
            "  Batch 7,800  of  9,774.    Elapsed: 1:23:41.\n",
            "  Batch 7,840  of  9,774.    Elapsed: 1:24:07.\n",
            "  Batch 7,880  of  9,774.    Elapsed: 1:24:33.\n",
            "  Batch 7,920  of  9,774.    Elapsed: 1:24:59.\n",
            "  Batch 7,960  of  9,774.    Elapsed: 1:25:24.\n",
            "  Batch 8,000  of  9,774.    Elapsed: 1:25:50.\n",
            "  Batch 8,040  of  9,774.    Elapsed: 1:26:16.\n",
            "  Batch 8,080  of  9,774.    Elapsed: 1:26:42.\n",
            "  Batch 8,120  of  9,774.    Elapsed: 1:27:07.\n",
            "  Batch 8,160  of  9,774.    Elapsed: 1:27:33.\n",
            "  Batch 8,200  of  9,774.    Elapsed: 1:27:59.\n",
            "  Batch 8,240  of  9,774.    Elapsed: 1:28:25.\n",
            "  Batch 8,280  of  9,774.    Elapsed: 1:28:50.\n",
            "  Batch 8,320  of  9,774.    Elapsed: 1:29:16.\n",
            "  Batch 8,360  of  9,774.    Elapsed: 1:29:42.\n",
            "  Batch 8,400  of  9,774.    Elapsed: 1:30:08.\n",
            "  Batch 8,440  of  9,774.    Elapsed: 1:30:34.\n",
            "  Batch 8,480  of  9,774.    Elapsed: 1:30:59.\n",
            "  Batch 8,520  of  9,774.    Elapsed: 1:31:25.\n",
            "  Batch 8,560  of  9,774.    Elapsed: 1:31:51.\n",
            "  Batch 8,600  of  9,774.    Elapsed: 1:32:17.\n",
            "  Batch 8,640  of  9,774.    Elapsed: 1:32:42.\n",
            "  Batch 8,680  of  9,774.    Elapsed: 1:33:08.\n",
            "  Batch 8,720  of  9,774.    Elapsed: 1:33:34.\n",
            "  Batch 8,760  of  9,774.    Elapsed: 1:34:00.\n",
            "  Batch 8,800  of  9,774.    Elapsed: 1:34:25.\n",
            "  Batch 8,840  of  9,774.    Elapsed: 1:34:51.\n",
            "  Batch 8,880  of  9,774.    Elapsed: 1:35:17.\n",
            "  Batch 8,920  of  9,774.    Elapsed: 1:35:43.\n",
            "  Batch 8,960  of  9,774.    Elapsed: 1:36:09.\n",
            "  Batch 9,000  of  9,774.    Elapsed: 1:36:34.\n",
            "  Batch 9,040  of  9,774.    Elapsed: 1:37:00.\n",
            "  Batch 9,080  of  9,774.    Elapsed: 1:37:26.\n",
            "  Batch 9,120  of  9,774.    Elapsed: 1:37:52.\n",
            "  Batch 9,160  of  9,774.    Elapsed: 1:38:18.\n",
            "  Batch 9,200  of  9,774.    Elapsed: 1:38:43.\n",
            "  Batch 9,240  of  9,774.    Elapsed: 1:39:09.\n",
            "  Batch 9,280  of  9,774.    Elapsed: 1:39:35.\n",
            "  Batch 9,320  of  9,774.    Elapsed: 1:40:01.\n",
            "  Batch 9,360  of  9,774.    Elapsed: 1:40:26.\n",
            "  Batch 9,400  of  9,774.    Elapsed: 1:40:52.\n",
            "  Batch 9,440  of  9,774.    Elapsed: 1:41:18.\n",
            "  Batch 9,480  of  9,774.    Elapsed: 1:41:44.\n",
            "  Batch 9,520  of  9,774.    Elapsed: 1:42:09.\n",
            "  Batch 9,560  of  9,774.    Elapsed: 1:42:35.\n",
            "  Batch 9,600  of  9,774.    Elapsed: 1:43:01.\n",
            "  Batch 9,640  of  9,774.    Elapsed: 1:43:27.\n",
            "  Batch 9,680  of  9,774.    Elapsed: 1:43:52.\n",
            "  Batch 9,720  of  9,774.    Elapsed: 1:44:18.\n",
            "  Batch 9,760  of  9,774.    Elapsed: 1:44:44.\n",
            "  Average training loss: 0.44\n",
            "  Training epcoh took: 1:44:53\n",
            "Running Validation...\n",
            "  Accuracy: 0.83\n",
            "  Validation Loss: 0.36\n",
            "  Validation took: 0:03:46\n",
            "======== Epoch 2 / 2 ========\n",
            "Training...\n",
            "  Batch    40  of  9,774.    Elapsed: 0:00:26.\n",
            "  Batch    80  of  9,774.    Elapsed: 0:00:52.\n",
            "  Batch   120  of  9,774.    Elapsed: 0:01:17.\n",
            "  Batch   160  of  9,774.    Elapsed: 0:01:43.\n",
            "  Batch   200  of  9,774.    Elapsed: 0:02:09.\n",
            "  Batch   240  of  9,774.    Elapsed: 0:02:35.\n",
            "  Batch   280  of  9,774.    Elapsed: 0:03:00.\n",
            "  Batch   320  of  9,774.    Elapsed: 0:03:26.\n",
            "  Batch   360  of  9,774.    Elapsed: 0:03:52.\n",
            "  Batch   400  of  9,774.    Elapsed: 0:04:17.\n",
            "  Batch   440  of  9,774.    Elapsed: 0:04:43.\n",
            "  Batch   480  of  9,774.    Elapsed: 0:05:09.\n",
            "  Batch   520  of  9,774.    Elapsed: 0:05:35.\n",
            "  Batch   560  of  9,774.    Elapsed: 0:06:00.\n",
            "  Batch   600  of  9,774.    Elapsed: 0:06:26.\n",
            "  Batch   640  of  9,774.    Elapsed: 0:06:52.\n",
            "  Batch   680  of  9,774.    Elapsed: 0:07:18.\n",
            "  Batch   720  of  9,774.    Elapsed: 0:07:43.\n",
            "  Batch   760  of  9,774.    Elapsed: 0:08:09.\n",
            "  Batch   800  of  9,774.    Elapsed: 0:08:35.\n",
            "  Batch   840  of  9,774.    Elapsed: 0:09:01.\n",
            "  Batch   880  of  9,774.    Elapsed: 0:09:27.\n",
            "  Batch   920  of  9,774.    Elapsed: 0:09:52.\n",
            "  Batch   960  of  9,774.    Elapsed: 0:10:18.\n",
            "  Batch 1,000  of  9,774.    Elapsed: 0:10:44.\n",
            "  Batch 1,040  of  9,774.    Elapsed: 0:11:09.\n",
            "  Batch 1,080  of  9,774.    Elapsed: 0:11:35.\n",
            "  Batch 1,120  of  9,774.    Elapsed: 0:12:01.\n",
            "  Batch 1,160  of  9,774.    Elapsed: 0:12:27.\n",
            "  Batch 1,200  of  9,774.    Elapsed: 0:12:53.\n",
            "  Batch 1,240  of  9,774.    Elapsed: 0:13:18.\n",
            "  Batch 1,280  of  9,774.    Elapsed: 0:13:44.\n",
            "  Batch 1,320  of  9,774.    Elapsed: 0:14:10.\n",
            "  Batch 1,360  of  9,774.    Elapsed: 0:14:36.\n",
            "  Batch 1,400  of  9,774.    Elapsed: 0:15:01.\n",
            "  Batch 1,440  of  9,774.    Elapsed: 0:15:27.\n",
            "  Batch 1,480  of  9,774.    Elapsed: 0:15:53.\n",
            "  Batch 1,520  of  9,774.    Elapsed: 0:16:18.\n",
            "  Batch 1,560  of  9,774.    Elapsed: 0:16:44.\n",
            "  Batch 1,600  of  9,774.    Elapsed: 0:17:10.\n",
            "  Batch 1,640  of  9,774.    Elapsed: 0:17:36.\n",
            "  Batch 1,680  of  9,774.    Elapsed: 0:18:01.\n",
            "  Batch 1,720  of  9,774.    Elapsed: 0:18:27.\n",
            "  Batch 1,760  of  9,774.    Elapsed: 0:18:53.\n",
            "  Batch 1,800  of  9,774.    Elapsed: 0:19:19.\n",
            "  Batch 1,840  of  9,774.    Elapsed: 0:19:44.\n",
            "  Batch 1,880  of  9,774.    Elapsed: 0:20:10.\n",
            "  Batch 1,920  of  9,774.    Elapsed: 0:20:36.\n",
            "  Batch 1,960  of  9,774.    Elapsed: 0:21:02.\n",
            "  Batch 2,000  of  9,774.    Elapsed: 0:21:27.\n",
            "  Batch 2,040  of  9,774.    Elapsed: 0:21:53.\n",
            "  Batch 2,080  of  9,774.    Elapsed: 0:22:19.\n",
            "  Batch 2,120  of  9,774.    Elapsed: 0:22:45.\n",
            "  Batch 2,160  of  9,774.    Elapsed: 0:23:11.\n",
            "  Batch 2,200  of  9,774.    Elapsed: 0:23:36.\n",
            "  Batch 2,240  of  9,774.    Elapsed: 0:24:02.\n",
            "  Batch 2,280  of  9,774.    Elapsed: 0:24:28.\n",
            "  Batch 2,320  of  9,774.    Elapsed: 0:24:53.\n",
            "  Batch 2,360  of  9,774.    Elapsed: 0:25:19.\n",
            "  Batch 2,400  of  9,774.    Elapsed: 0:25:45.\n",
            "  Batch 2,440  of  9,774.    Elapsed: 0:26:11.\n",
            "  Batch 2,480  of  9,774.    Elapsed: 0:26:36.\n",
            "  Batch 2,520  of  9,774.    Elapsed: 0:27:02.\n",
            "  Batch 2,560  of  9,774.    Elapsed: 0:27:28.\n",
            "  Batch 2,600  of  9,774.    Elapsed: 0:27:54.\n",
            "  Batch 2,640  of  9,774.    Elapsed: 0:28:19.\n",
            "  Batch 2,680  of  9,774.    Elapsed: 0:28:45.\n",
            "  Batch 2,720  of  9,774.    Elapsed: 0:29:11.\n",
            "  Batch 2,760  of  9,774.    Elapsed: 0:29:36.\n",
            "  Batch 2,800  of  9,774.    Elapsed: 0:30:02.\n",
            "  Batch 2,840  of  9,774.    Elapsed: 0:30:28.\n",
            "  Batch 2,880  of  9,774.    Elapsed: 0:30:54.\n",
            "  Batch 2,920  of  9,774.    Elapsed: 0:31:19.\n",
            "  Batch 2,960  of  9,774.    Elapsed: 0:31:45.\n",
            "  Batch 3,000  of  9,774.    Elapsed: 0:32:11.\n",
            "  Batch 3,040  of  9,774.    Elapsed: 0:32:36.\n",
            "  Batch 3,080  of  9,774.    Elapsed: 0:33:02.\n",
            "  Batch 3,120  of  9,774.    Elapsed: 0:33:28.\n",
            "  Batch 3,160  of  9,774.    Elapsed: 0:33:54.\n",
            "  Batch 3,200  of  9,774.    Elapsed: 0:34:19.\n",
            "  Batch 3,240  of  9,774.    Elapsed: 0:34:45.\n",
            "  Batch 3,280  of  9,774.    Elapsed: 0:35:11.\n",
            "  Batch 3,320  of  9,774.    Elapsed: 0:35:37.\n",
            "  Batch 3,360  of  9,774.    Elapsed: 0:36:02.\n",
            "  Batch 3,400  of  9,774.    Elapsed: 0:36:28.\n",
            "  Batch 3,440  of  9,774.    Elapsed: 0:36:54.\n",
            "  Batch 3,480  of  9,774.    Elapsed: 0:37:20.\n",
            "  Batch 3,520  of  9,774.    Elapsed: 0:37:45.\n",
            "  Batch 3,560  of  9,774.    Elapsed: 0:38:11.\n",
            "  Batch 3,600  of  9,774.    Elapsed: 0:38:37.\n",
            "  Batch 3,640  of  9,774.    Elapsed: 0:39:03.\n",
            "  Batch 3,680  of  9,774.    Elapsed: 0:39:28.\n",
            "  Batch 3,720  of  9,774.    Elapsed: 0:39:54.\n",
            "  Batch 3,760  of  9,774.    Elapsed: 0:40:20.\n",
            "  Batch 3,800  of  9,774.    Elapsed: 0:40:45.\n",
            "  Batch 3,840  of  9,774.    Elapsed: 0:41:11.\n",
            "  Batch 3,880  of  9,774.    Elapsed: 0:41:37.\n",
            "  Batch 3,920  of  9,774.    Elapsed: 0:42:02.\n",
            "  Batch 3,960  of  9,774.    Elapsed: 0:42:28.\n",
            "  Batch 4,000  of  9,774.    Elapsed: 0:42:54.\n",
            "  Batch 4,040  of  9,774.    Elapsed: 0:43:20.\n",
            "  Batch 4,080  of  9,774.    Elapsed: 0:43:45.\n",
            "  Batch 4,120  of  9,774.    Elapsed: 0:44:11.\n",
            "  Batch 4,160  of  9,774.    Elapsed: 0:44:37.\n",
            "  Batch 4,200  of  9,774.    Elapsed: 0:45:03.\n",
            "  Batch 4,240  of  9,774.    Elapsed: 0:45:28.\n",
            "  Batch 4,280  of  9,774.    Elapsed: 0:45:54.\n",
            "  Batch 4,320  of  9,774.    Elapsed: 0:46:20.\n",
            "  Batch 4,360  of  9,774.    Elapsed: 0:46:45.\n",
            "  Batch 4,400  of  9,774.    Elapsed: 0:47:11.\n",
            "  Batch 4,440  of  9,774.    Elapsed: 0:47:37.\n",
            "  Batch 4,480  of  9,774.    Elapsed: 0:48:03.\n",
            "  Batch 4,520  of  9,774.    Elapsed: 0:48:28.\n",
            "  Batch 4,560  of  9,774.    Elapsed: 0:48:54.\n",
            "  Batch 4,600  of  9,774.    Elapsed: 0:49:20.\n",
            "  Batch 4,640  of  9,774.    Elapsed: 0:49:46.\n",
            "  Batch 4,680  of  9,774.    Elapsed: 0:50:11.\n",
            "  Batch 4,720  of  9,774.    Elapsed: 0:50:37.\n",
            "  Batch 4,760  of  9,774.    Elapsed: 0:51:03.\n",
            "  Batch 4,800  of  9,774.    Elapsed: 0:51:29.\n",
            "  Batch 4,840  of  9,774.    Elapsed: 0:51:54.\n",
            "  Batch 4,880  of  9,774.    Elapsed: 0:52:20.\n",
            "  Batch 4,920  of  9,774.    Elapsed: 0:52:46.\n",
            "  Batch 4,960  of  9,774.    Elapsed: 0:53:12.\n",
            "  Batch 5,000  of  9,774.    Elapsed: 0:53:37.\n",
            "  Batch 5,040  of  9,774.    Elapsed: 0:54:03.\n",
            "  Batch 5,080  of  9,774.    Elapsed: 0:54:29.\n",
            "  Batch 5,120  of  9,774.    Elapsed: 0:54:55.\n",
            "  Batch 5,160  of  9,774.    Elapsed: 0:55:20.\n",
            "  Batch 5,200  of  9,774.    Elapsed: 0:55:46.\n",
            "  Batch 5,240  of  9,774.    Elapsed: 0:56:12.\n",
            "  Batch 5,280  of  9,774.    Elapsed: 0:56:38.\n",
            "  Batch 5,320  of  9,774.    Elapsed: 0:57:03.\n",
            "  Batch 5,360  of  9,774.    Elapsed: 0:57:29.\n",
            "  Batch 5,400  of  9,774.    Elapsed: 0:57:55.\n",
            "  Batch 5,440  of  9,774.    Elapsed: 0:58:21.\n",
            "  Batch 5,480  of  9,774.    Elapsed: 0:58:46.\n",
            "  Batch 5,520  of  9,774.    Elapsed: 0:59:12.\n",
            "  Batch 5,560  of  9,774.    Elapsed: 0:59:38.\n",
            "  Batch 5,600  of  9,774.    Elapsed: 1:00:04.\n",
            "  Batch 5,640  of  9,774.    Elapsed: 1:00:30.\n",
            "  Batch 5,680  of  9,774.    Elapsed: 1:00:55.\n",
            "  Batch 5,720  of  9,774.    Elapsed: 1:01:21.\n",
            "  Batch 5,760  of  9,774.    Elapsed: 1:01:47.\n",
            "  Batch 5,800  of  9,774.    Elapsed: 1:02:12.\n",
            "  Batch 5,840  of  9,774.    Elapsed: 1:02:38.\n",
            "  Batch 5,880  of  9,774.    Elapsed: 1:03:04.\n",
            "  Batch 5,920  of  9,774.    Elapsed: 1:03:30.\n",
            "  Batch 5,960  of  9,774.    Elapsed: 1:03:55.\n",
            "  Batch 6,000  of  9,774.    Elapsed: 1:04:21.\n",
            "  Batch 6,040  of  9,774.    Elapsed: 1:04:47.\n",
            "  Batch 6,080  of  9,774.    Elapsed: 1:05:13.\n",
            "  Batch 6,120  of  9,774.    Elapsed: 1:05:38.\n",
            "  Batch 6,160  of  9,774.    Elapsed: 1:06:04.\n",
            "  Batch 6,200  of  9,774.    Elapsed: 1:06:30.\n",
            "  Batch 6,240  of  9,774.    Elapsed: 1:06:56.\n",
            "  Batch 6,280  of  9,774.    Elapsed: 1:07:21.\n",
            "  Batch 6,320  of  9,774.    Elapsed: 1:07:47.\n",
            "  Batch 6,360  of  9,774.    Elapsed: 1:08:13.\n",
            "  Batch 6,400  of  9,774.    Elapsed: 1:08:39.\n",
            "  Batch 6,440  of  9,774.    Elapsed: 1:09:04.\n",
            "  Batch 6,480  of  9,774.    Elapsed: 1:09:30.\n",
            "  Batch 6,520  of  9,774.    Elapsed: 1:09:56.\n",
            "  Batch 6,560  of  9,774.    Elapsed: 1:10:22.\n",
            "  Batch 6,600  of  9,774.    Elapsed: 1:10:47.\n",
            "  Batch 6,640  of  9,774.    Elapsed: 1:11:13.\n",
            "  Batch 6,680  of  9,774.    Elapsed: 1:11:39.\n",
            "  Batch 6,720  of  9,774.    Elapsed: 1:12:05.\n",
            "  Batch 6,760  of  9,774.    Elapsed: 1:12:30.\n",
            "  Batch 6,800  of  9,774.    Elapsed: 1:12:56.\n",
            "  Batch 6,840  of  9,774.    Elapsed: 1:13:22.\n",
            "  Batch 6,880  of  9,774.    Elapsed: 1:13:47.\n",
            "  Batch 6,920  of  9,774.    Elapsed: 1:14:13.\n",
            "  Batch 6,960  of  9,774.    Elapsed: 1:14:39.\n",
            "  Batch 7,000  of  9,774.    Elapsed: 1:15:05.\n",
            "  Batch 7,040  of  9,774.    Elapsed: 1:15:30.\n",
            "  Batch 7,080  of  9,774.    Elapsed: 1:15:56.\n",
            "  Batch 7,120  of  9,774.    Elapsed: 1:16:22.\n",
            "  Batch 7,160  of  9,774.    Elapsed: 1:16:48.\n",
            "  Batch 7,200  of  9,774.    Elapsed: 1:17:13.\n",
            "  Batch 7,240  of  9,774.    Elapsed: 1:17:39.\n",
            "  Batch 7,280  of  9,774.    Elapsed: 1:18:05.\n",
            "  Batch 7,320  of  9,774.    Elapsed: 1:18:31.\n",
            "  Batch 7,360  of  9,774.    Elapsed: 1:18:56.\n",
            "  Batch 7,400  of  9,774.    Elapsed: 1:19:22.\n",
            "  Batch 7,440  of  9,774.    Elapsed: 1:19:48.\n",
            "  Batch 7,480  of  9,774.    Elapsed: 1:20:14.\n",
            "  Batch 7,520  of  9,774.    Elapsed: 1:20:40.\n",
            "  Batch 7,560  of  9,774.    Elapsed: 1:21:05.\n",
            "  Batch 7,600  of  9,774.    Elapsed: 1:21:31.\n",
            "  Batch 7,640  of  9,774.    Elapsed: 1:21:57.\n",
            "  Batch 7,680  of  9,774.    Elapsed: 1:22:23.\n",
            "  Batch 7,720  of  9,774.    Elapsed: 1:22:48.\n",
            "  Batch 7,760  of  9,774.    Elapsed: 1:23:14.\n",
            "  Batch 7,800  of  9,774.    Elapsed: 1:23:40.\n",
            "  Batch 7,840  of  9,774.    Elapsed: 1:24:06.\n",
            "  Batch 7,880  of  9,774.    Elapsed: 1:24:32.\n",
            "  Batch 7,920  of  9,774.    Elapsed: 1:24:57.\n",
            "  Batch 7,960  of  9,774.    Elapsed: 1:25:23.\n",
            "  Batch 8,000  of  9,774.    Elapsed: 1:25:49.\n",
            "  Batch 8,040  of  9,774.    Elapsed: 1:26:15.\n",
            "  Batch 8,080  of  9,774.    Elapsed: 1:26:40.\n",
            "  Batch 8,120  of  9,774.    Elapsed: 1:27:06.\n",
            "  Batch 8,160  of  9,774.    Elapsed: 1:27:32.\n",
            "  Batch 8,200  of  9,774.    Elapsed: 1:27:58.\n",
            "  Batch 8,240  of  9,774.    Elapsed: 1:28:23.\n",
            "  Batch 8,280  of  9,774.    Elapsed: 1:28:49.\n",
            "  Batch 8,320  of  9,774.    Elapsed: 1:29:15.\n",
            "  Batch 8,360  of  9,774.    Elapsed: 1:29:41.\n",
            "  Batch 8,400  of  9,774.    Elapsed: 1:30:07.\n",
            "  Batch 8,440  of  9,774.    Elapsed: 1:30:32.\n",
            "  Batch 8,480  of  9,774.    Elapsed: 1:30:58.\n",
            "  Batch 8,520  of  9,774.    Elapsed: 1:31:24.\n",
            "  Batch 8,560  of  9,774.    Elapsed: 1:31:50.\n",
            "  Batch 8,600  of  9,774.    Elapsed: 1:32:15.\n",
            "  Batch 8,640  of  9,774.    Elapsed: 1:32:41.\n",
            "  Batch 8,680  of  9,774.    Elapsed: 1:33:07.\n",
            "  Batch 8,720  of  9,774.    Elapsed: 1:33:33.\n",
            "  Batch 8,760  of  9,774.    Elapsed: 1:33:59.\n",
            "  Batch 8,800  of  9,774.    Elapsed: 1:34:24.\n",
            "  Batch 8,840  of  9,774.    Elapsed: 1:34:50.\n",
            "  Batch 8,880  of  9,774.    Elapsed: 1:35:16.\n",
            "  Batch 8,920  of  9,774.    Elapsed: 1:35:42.\n",
            "  Batch 8,960  of  9,774.    Elapsed: 1:36:07.\n",
            "  Batch 9,000  of  9,774.    Elapsed: 1:36:33.\n",
            "  Batch 9,040  of  9,774.    Elapsed: 1:36:59.\n",
            "  Batch 9,080  of  9,774.    Elapsed: 1:37:25.\n",
            "  Batch 9,120  of  9,774.    Elapsed: 1:37:51.\n",
            "  Batch 9,160  of  9,774.    Elapsed: 1:38:16.\n",
            "  Batch 9,200  of  9,774.    Elapsed: 1:38:42.\n",
            "  Batch 9,240  of  9,774.    Elapsed: 1:39:08.\n",
            "  Batch 9,280  of  9,774.    Elapsed: 1:39:34.\n",
            "  Batch 9,320  of  9,774.    Elapsed: 1:40:00.\n",
            "  Batch 9,360  of  9,774.    Elapsed: 1:40:25.\n",
            "  Batch 9,400  of  9,774.    Elapsed: 1:40:51.\n",
            "  Batch 9,440  of  9,774.    Elapsed: 1:41:17.\n",
            "  Batch 9,480  of  9,774.    Elapsed: 1:41:43.\n",
            "  Batch 9,520  of  9,774.    Elapsed: 1:42:08.\n",
            "  Batch 9,560  of  9,774.    Elapsed: 1:42:34.\n",
            "  Batch 9,600  of  9,774.    Elapsed: 1:43:00.\n",
            "  Batch 9,640  of  9,774.    Elapsed: 1:43:25.\n",
            "  Batch 9,680  of  9,774.    Elapsed: 1:43:51.\n",
            "  Batch 9,720  of  9,774.    Elapsed: 1:44:17.\n",
            "  Batch 9,760  of  9,774.    Elapsed: 1:44:43.\n",
            "  Average training loss: 0.30\n",
            "  Training epcoh took: 1:44:52\n",
            "Running Validation...\n",
            "  Accuracy: 0.84\n",
            "  Validation Loss: 0.37\n",
            "  Validation took: 0:03:45\n",
            "\n",
            "Training complete!\n",
            "Total training took 3:37:15 (h:mm:ss)\n"
          ],
          "name": "stdout"
        }
      ]
    },
    {
      "cell_type": "markdown",
      "metadata": {
        "id": "rlQ3dP6JWUMy",
        "colab_type": "text"
      },
      "source": [
        "### Step 7: Visualize Training Results"
      ]
    },
    {
      "cell_type": "code",
      "metadata": {
        "id": "lD4C4QqXR-_v",
        "colab_type": "code",
        "colab": {
          "base_uri": "https://localhost:8080/",
          "height": 141
        },
        "outputId": "b495f645-1538-43f7-e37d-bba1cd506f73"
      },
      "source": [
        "#Make a dataframe of results. \n",
        "\n",
        "# Display floats with two decimal places.\n",
        "pd.set_option('precision', 2)\n",
        "# Create a DataFrame from our training statistics.\n",
        "df_stats = pd.DataFrame(data=training_stats)\n",
        "# Use the 'epoch' as the row index.\n",
        "df_stats = df_stats.set_index('epoch')\n",
        "# A hack to force the column headers to wrap.\n",
        "#df = df.style.set_table_styles([dict(selector=\"th\",props=[('max-width', '70px')])])\n",
        "# Display the table.\n",
        "df_stats"
      ],
      "execution_count": null,
      "outputs": [
        {
          "output_type": "execute_result",
          "data": {
            "text/html": [
              "<div>\n",
              "<style scoped>\n",
              "    .dataframe tbody tr th:only-of-type {\n",
              "        vertical-align: middle;\n",
              "    }\n",
              "\n",
              "    .dataframe tbody tr th {\n",
              "        vertical-align: top;\n",
              "    }\n",
              "\n",
              "    .dataframe thead th {\n",
              "        text-align: right;\n",
              "    }\n",
              "</style>\n",
              "<table border=\"1\" class=\"dataframe\">\n",
              "  <thead>\n",
              "    <tr style=\"text-align: right;\">\n",
              "      <th></th>\n",
              "      <th>Training Loss</th>\n",
              "      <th>Valid. Loss</th>\n",
              "      <th>Valid. Accur.</th>\n",
              "      <th>Training Time</th>\n",
              "      <th>Validation Time</th>\n",
              "    </tr>\n",
              "    <tr>\n",
              "      <th>epoch</th>\n",
              "      <th></th>\n",
              "      <th></th>\n",
              "      <th></th>\n",
              "      <th></th>\n",
              "      <th></th>\n",
              "    </tr>\n",
              "  </thead>\n",
              "  <tbody>\n",
              "    <tr>\n",
              "      <th>1</th>\n",
              "      <td>0.44</td>\n",
              "      <td>0.36</td>\n",
              "      <td>0.83</td>\n",
              "      <td>1:44:53</td>\n",
              "      <td>0:03:46</td>\n",
              "    </tr>\n",
              "    <tr>\n",
              "      <th>2</th>\n",
              "      <td>0.30</td>\n",
              "      <td>0.37</td>\n",
              "      <td>0.84</td>\n",
              "      <td>1:44:52</td>\n",
              "      <td>0:03:45</td>\n",
              "    </tr>\n",
              "  </tbody>\n",
              "</table>\n",
              "</div>"
            ],
            "text/plain": [
              "       Training Loss  Valid. Loss  Valid. Accur. Training Time Validation Time\n",
              "epoch                                                                         \n",
              "1               0.44         0.36           0.83       1:44:53         0:03:46\n",
              "2               0.30         0.37           0.84       1:44:52         0:03:45"
            ]
          },
          "metadata": {
            "tags": []
          },
          "execution_count": 87
        }
      ]
    },
    {
      "cell_type": "code",
      "metadata": {
        "id": "LU00jJPFWZ6F",
        "colab_type": "code",
        "colab": {
          "base_uri": "https://localhost:8080/",
          "height": 426
        },
        "outputId": "902a53d0-1404-4ffd-f8c8-5b2698035189"
      },
      "source": [
        "#Plot the results from the Dataframe\n",
        "import matplotlib.pyplot as plt\n",
        "% matplotlib inline\n",
        "\n",
        "import seaborn as sns\n",
        "\n",
        "\n",
        "# Use plot styling from seaborn.\n",
        "sns.set(style='darkgrid')\n",
        "\n",
        "# Increase the plot size and font size.\n",
        "sns.set(font_scale=1.5)\n",
        "plt.rcParams[\"figure.figsize\"] = (12,6)\n",
        "\n",
        "# Plot the learning curve.\n",
        "plt.plot(df_stats['Training Loss'], 'b-o', label=\"Training\")\n",
        "plt.plot(df_stats['Valid. Loss'], 'g-o', label=\"Validation\")\n",
        "\n",
        "# Label the plot.\n",
        "plt.title(\"Training & Validation Loss\")\n",
        "plt.xlabel(\"Epoch\")\n",
        "plt.ylabel(\"Loss\")\n",
        "plt.legend()\n",
        "plt.xticks([1, 2, 3, 4])\n",
        "\n",
        "plt.show()"
      ],
      "execution_count": null,
      "outputs": [
        {
          "output_type": "display_data",
          "data": {
            "image/png": "[encoded data removed]",
            "text/plain": [
              "<Figure size 864x432 with 1 Axes>"
            ]
          },
          "metadata": {
            "tags": []
          }
        }
      ]
    },
    {
      "cell_type": "markdown",
      "metadata": {
        "id": "sj66rRTTXPB0",
        "colab_type": "text"
      },
      "source": [
        "### Step 8: Prep Dev Set\n"
      ]
    },
    {
      "cell_type": "code",
      "metadata": {
        "id": "c7lRfm72X4VE",
        "colab_type": "code",
        "colab": {
          "base_uri": "https://localhost:8080/",
          "height": 202
        },
        "outputId": "25474747-9230-4b8f-85cc-5a876f80e1b6"
      },
      "source": [
        "import pandas as pd\n",
        "\n",
        "#create the labels. \n",
        "d_impossible = extract_answer_type('dev-v2.0.json')\n",
        "d_impossible_df = pd.DataFrame(d_impossible) \n",
        "d_impossible_df.head()\n",
        "\n",
        "#pull out question data \n",
        "dq_text = extract_question('dev-v2.0.json')\n",
        "dq_df = pd.DataFrame(dq_text)\n",
        "dq_df.head()\n",
        "\n",
        "# #import Dev set. \n",
        "# dev_df = pd.read_csv('dev_with_split.csv')\n",
        "# #the empty choice is converted to a NaN when I reload, so this will correct the issue.\n",
        "# dev_df['a'].fillna(\"\", inplace=True)\n",
        "\n",
        "# print('Number of dev sentences: {:,}\\n'.format(dev_df.shape[0]))"
      ],
      "execution_count": null,
      "outputs": [
        {
          "output_type": "execute_result",
          "data": {
            "text/html": [
              "<div>\n",
              "<style scoped>\n",
              "    .dataframe tbody tr th:only-of-type {\n",
              "        vertical-align: middle;\n",
              "    }\n",
              "\n",
              "    .dataframe tbody tr th {\n",
              "        vertical-align: top;\n",
              "    }\n",
              "\n",
              "    .dataframe thead th {\n",
              "        text-align: right;\n",
              "    }\n",
              "</style>\n",
              "<table border=\"1\" class=\"dataframe\">\n",
              "  <thead>\n",
              "    <tr style=\"text-align: right;\">\n",
              "      <th></th>\n",
              "      <th>0</th>\n",
              "      <th>1</th>\n",
              "      <th>2</th>\n",
              "    </tr>\n",
              "  </thead>\n",
              "  <tbody>\n",
              "    <tr>\n",
              "      <th>0</th>\n",
              "      <td>56ddde6b9a695914005b9628</td>\n",
              "      <td>The Normans (Norman: Nourmands; French: Norman...</td>\n",
              "      <td>In what country is Normandy located?</td>\n",
              "    </tr>\n",
              "    <tr>\n",
              "      <th>1</th>\n",
              "      <td>56ddde6b9a695914005b9629</td>\n",
              "      <td>The Normans (Norman: Nourmands; French: Norman...</td>\n",
              "      <td>When were the Normans in Normandy?</td>\n",
              "    </tr>\n",
              "    <tr>\n",
              "      <th>2</th>\n",
              "      <td>56ddde6b9a695914005b962a</td>\n",
              "      <td>The Normans (Norman: Nourmands; French: Norman...</td>\n",
              "      <td>From which countries did the Norse originate?</td>\n",
              "    </tr>\n",
              "    <tr>\n",
              "      <th>3</th>\n",
              "      <td>56ddde6b9a695914005b962b</td>\n",
              "      <td>The Normans (Norman: Nourmands; French: Norman...</td>\n",
              "      <td>Who was the Norse leader?</td>\n",
              "    </tr>\n",
              "    <tr>\n",
              "      <th>4</th>\n",
              "      <td>56ddde6b9a695914005b962c</td>\n",
              "      <td>The Normans (Norman: Nourmands; French: Norman...</td>\n",
              "      <td>What century did the Normans first gain their ...</td>\n",
              "    </tr>\n",
              "  </tbody>\n",
              "</table>\n",
              "</div>"
            ],
            "text/plain": [
              "                          0  ...                                                  2\n",
              "0  56ddde6b9a695914005b9628  ...               In what country is Normandy located?\n",
              "1  56ddde6b9a695914005b9629  ...                 When were the Normans in Normandy?\n",
              "2  56ddde6b9a695914005b962a  ...      From which countries did the Norse originate?\n",
              "3  56ddde6b9a695914005b962b  ...                          Who was the Norse leader?\n",
              "4  56ddde6b9a695914005b962c  ...  What century did the Normans first gain their ...\n",
              "\n",
              "[5 rows x 3 columns]"
            ]
          },
          "metadata": {
            "tags": []
          },
          "execution_count": 24
        }
      ]
    },
    {
      "cell_type": "code",
      "metadata": {
        "id": "1bUFtt0KK4j5",
        "colab_type": "code",
        "colab": {}
      },
      "source": [
        "#combine into one data frame and save to CSV.\n",
        "dev_df = pd.concat([dq_df, d_impossible_df], axis = 1, sort = False)\n",
        "dev_df.columns = ['id', 'context', 'question', 'impossible']\n",
        "dev_df.head()\n",
        "dev_df.to_csv('dev_classification.csv')"
      ],
      "execution_count": null,
      "outputs": []
    },
    {
      "cell_type": "code",
      "metadata": {
        "id": "up4ydzU6LJUU",
        "colab_type": "code",
        "colab": {}
      },
      "source": [
        "#bring a copy over into my drive so I can pick up here.\n",
        "\n",
        "%cp -R /content/dev_classification.csv /content/drive/My\\ Drive/"
      ],
      "execution_count": null,
      "outputs": []
    },
    {
      "cell_type": "code",
      "metadata": {
        "id": "5QCtGHI3LN-o",
        "colab_type": "code",
        "colab": {}
      },
      "source": [
        "#if just picking back off:\n",
        "\n",
        "dev_df = pd.read_csv('/content/drive/My Drive/dev_classification.csv')"
      ],
      "execution_count": null,
      "outputs": []
    },
    {
      "cell_type": "code",
      "metadata": {
        "id": "vNTzPDlhfMNM",
        "colab_type": "code",
        "colab": {}
      },
      "source": [
        "#pull out the relevant columns.\n",
        "\n",
        "contexts = dev_df.context.values\n",
        "questions = dev_df.question.values\n",
        "labels = dev_df.impossible.values\n"
      ],
      "execution_count": null,
      "outputs": []
    },
    {
      "cell_type": "code",
      "metadata": {
        "id": "HTxXkT3PemPM",
        "colab_type": "code",
        "colab": {}
      },
      "source": [
        "# Tokenize all of the sentences and map the tokens to thier word IDs.\n",
        "\n",
        "input_ids = []\n",
        "attention_masks = []\n",
        "\n",
        "#Add the question to the front of the contexts \n",
        "for i in range(len(questions)):\n",
        "    text = (str(questions[i])+' '+str(contexts[i]))\n",
        "\n",
        "    encoded_dict = tokenizer.encode_plus(\n",
        "                        text,\n",
        "                        add_special_tokens = True, # Add '[CLS]' and '[SEP]'\n",
        "                        max_length = 512,           # Take to the max length\n",
        "                        pad_to_max_length = True,\n",
        "                        return_attention_mask = True,   # Construct attn. masks.\n",
        "                        return_tensors = 'pt',\n",
        "                        truncation = True)\n",
        "\n",
        "    # Add the encoded sentence to the list.    \n",
        "    input_ids.append(encoded_dict['input_ids'])\n",
        "    \n",
        "    # And its attention mask (simply differentiates padding from non-padding).\n",
        "    attention_masks.append(encoded_dict['attention_mask'])\n",
        "\n",
        "# Convert the lists into tensors.\n",
        "input_ids = torch.cat(input_ids, dim=0)\n",
        "attention_masks = torch.cat(attention_masks, dim=0)\n",
        "labels = torch.tensor(labels)\n",
        "\n",
        "# # Print sentence 0, now as a list of IDs.\n",
        "# print('Original: ', [0])\n",
        "# print('Token IDs:', input_ids[0])"
      ],
      "execution_count": null,
      "outputs": []
    },
    {
      "cell_type": "code",
      "metadata": {
        "id": "O3Ye7Y4cf1GW",
        "colab_type": "code",
        "colab": {
          "base_uri": "https://localhost:8080/",
          "height": 69
        },
        "outputId": "9e7b14ef-501a-43ac-ef7d-25e95dcd0ce9"
      },
      "source": [
        "#Check the shape to make sure it worked correctly. \n",
        "print(input_ids.size(0))\n",
        "print(attention_masks.size(0))\n",
        "print(labels.size(0))"
      ],
      "execution_count": null,
      "outputs": [
        {
          "output_type": "stream",
          "text": [
            "11873\n",
            "11873\n",
            "11873\n"
          ],
          "name": "stdout"
        }
      ]
    },
    {
      "cell_type": "code",
      "metadata": {
        "id": "bqVe8OfDemNS",
        "colab_type": "code",
        "colab": {}
      },
      "source": [
        "# Set the batch size.  \n",
        "batch_size = 8  \n",
        "\n",
        "# Create the DataLoader.\n",
        "prediction_data = TensorDataset(input_ids, attention_masks, labels)\n",
        "prediction_sampler = SequentialSampler(prediction_data)\n",
        "prediction_dataloader = DataLoader(prediction_data, sampler=prediction_sampler, batch_size=batch_size)"
      ],
      "execution_count": null,
      "outputs": []
    },
    {
      "cell_type": "markdown",
      "metadata": {
        "id": "ZNg5M2QNXXbU",
        "colab_type": "text"
      },
      "source": [
        "### Step 9: Evaluate Dev Set\n"
      ]
    },
    {
      "cell_type": "code",
      "metadata": {
        "id": "LFbS9e0bX461",
        "colab_type": "code",
        "colab": {
          "base_uri": "https://localhost:8080/",
          "height": 52
        },
        "outputId": "2341abb5-68f2-4899-bbda-f1c3e93e27e8"
      },
      "source": [
        "# Prediction on test set\n",
        "print('Predicting labels for {:,} test sentences...'.format(len(input_ids)))\n",
        "\n",
        "# Put model in evaluation mode\n",
        "model.eval()\n",
        "predictions , true_labels = [], []\n",
        "\n",
        "# Predict \n",
        "for batch in prediction_dataloader:\n",
        "  # Add batch to GPU\n",
        "  batch = tuple(t.to(device) for t in batch)\n",
        "  # Unpack the inputs from our dataloader\n",
        "  b_input_ids, b_input_mask, b_labels = batch\n",
        "  # Telling the model not to compute or store gradients, saving memory and \n",
        "  # speeding up prediction\n",
        "  with torch.no_grad():\n",
        "      # Forward pass, calculate logit predictions\n",
        "      outputs = model(b_input_ids, token_type_ids=None, \n",
        "                      attention_mask=b_input_mask)\n",
        "  logits = outputs[0]\n",
        "\n",
        "  # Move logits and labels to CPU\n",
        "  logits = logits.detach().cpu().numpy()\n",
        "  label_ids = b_labels.to('cpu').numpy()\n",
        "  \n",
        "  # Store predictions and true labels\n",
        "  predictions.append(logits)\n",
        "  true_labels.append(label_ids)\n",
        "\n",
        "print('    DONE.')"
      ],
      "execution_count": null,
      "outputs": [
        {
          "output_type": "stream",
          "text": [
            "Predicting labels for 11,873 test sentences...\n",
            "    DONE.\n"
          ],
          "name": "stdout"
        }
      ]
    },
    {
      "cell_type": "code",
      "metadata": {
        "id": "Q40urDnUgYXP",
        "colab_type": "code",
        "colab": {}
      },
      "source": [
        "#This will give me all 0's and 1's\n",
        "def get_label_list(predictions):\n",
        "  full_label_list = []\n",
        "  for i in range(len(predictions)):\n",
        "    for j in range(len(predictions[i])):\n",
        "      full_label_list.append((np.argmax(predictions[i], axis=1).flatten())[j])\n",
        "  return full_label_list\n",
        "\n",
        "full_labels = get_label_list(predictions)"
      ],
      "execution_count": null,
      "outputs": []
    },
    {
      "cell_type": "code",
      "metadata": {
        "id": "iks-HKOlgYjI",
        "colab_type": "code",
        "colab": {
          "base_uri": "https://localhost:8080/",
          "height": 329
        },
        "outputId": "11792528-3a42-4b7b-c779-f6e13e844a5d"
      },
      "source": [
        "# Necessary installs so I can mount the files from my bucket onto colab\n",
        "\n",
        "!echo \"deb http://packages.cloud.google.com/apt gcsfuse-bionic main\" > /etc/apt/sources.list.d/gcsfuse.list\n",
        "!curl https://packages.cloud.google.com/apt/doc/apt-key.gpg | apt-key add -\n",
        "!apt -qq update\n",
        "!apt -qq install gcsfuse"
      ],
      "execution_count": null,
      "outputs": [
        {
          "output_type": "stream",
          "text": [
            "  % Total    % Received % Xferd  Average Speed   Time    Time     Time  Current\n",
            "                                 Dload  Upload   Total   Spent    Left  Speed\n",
            "\r  0     0    0     0    0     0      0      0 --:--:-- --:--:-- --:--:--     0\r100   653  100   653    0     0  29681      0 --:--:-- --:--:-- --:--:-- 29681\n",
            "OK\n",
            "66 packages can be upgraded. Run 'apt list --upgradable' to see them.\n",
            "The following package was automatically installed and is no longer required:\n",
            "  libnvidia-common-440\n",
            "Use 'apt autoremove' to remove it.\n",
            "The following NEW packages will be installed:\n",
            "  gcsfuse\n",
            "0 upgraded, 1 newly installed, 0 to remove and 66 not upgraded.\n",
            "Need to get 4,278 kB of archives.\n",
            "After this operation, 12.8 MB of additional disk space will be used.\n",
            "Selecting previously unselected package gcsfuse.\n",
            "(Reading database ... 144465 files and directories currently installed.)\n",
            "Preparing to unpack .../gcsfuse_0.30.0_amd64.deb ...\n",
            "Unpacking gcsfuse (0.30.0) ...\n",
            "Setting up gcsfuse (0.30.0) ...\n"
          ],
          "name": "stdout"
        }
      ]
    },
    {
      "cell_type": "code",
      "metadata": {
        "id": "Fdd6hSBlgJNP",
        "colab_type": "code",
        "colab": {
          "base_uri": "https://localhost:8080/",
          "height": 104
        },
        "outputId": "9b582e44-7e0f-4b02-a63e-e11e83b761d5"
      },
      "source": [
        "# Make a folder for the bucket, this will have all of the files inside. \n",
        "\n",
        "!mkdir folderOnColab\n",
        "!gcsfuse thaddeussegura_final_project folderOnColab "
      ],
      "execution_count": null,
      "outputs": [
        {
          "output_type": "stream",
          "text": [
            "Using mount point: /content/folderOnColab\n",
            "Opening GCS connection...\n",
            "Opening bucket...\n",
            "Mounting file system...\n",
            "File system has been successfully mounted.\n"
          ],
          "name": "stdout"
        }
      ]
    },
    {
      "cell_type": "code",
      "metadata": {
        "id": "ZlLg09EbkiXH",
        "colab_type": "code",
        "colab": {}
      },
      "source": [
        "# def get_pred_dict(full_labels):\n",
        "#     pred_dict = {}\n",
        "#     for i in range(len(full_labels)):\n",
        "#         key = str(dev_df['id'][i])\n",
        "#         best_guess = str(dev_df.iloc[i, full_labels[i]])\n",
        "#         pred_dict[key] = best_guess\n",
        "#     return pred_dict \n",
        "\n",
        "def output_predictions(predictions):\n",
        "    with open('preds.json', 'w', encoding = 'utf-8') as json_file:\n",
        "        json.dump(predictions, json_file, ensure_ascii=True)\n",
        "\n",
        "def apply_classification(full_labels):\n",
        "  preds = open_json('predictions.json')\n",
        "  for i, id in enumerate(preds):\n",
        "    if full_labels[i] == 1:\n",
        "      preds[id] = \"\"\n",
        "  output_predictions(preds)"
      ],
      "execution_count": null,
      "outputs": []
    },
    {
      "cell_type": "code",
      "metadata": {
        "id": "p-ekMNeqhOL8",
        "colab_type": "code",
        "colab": {}
      },
      "source": [
        "apply_classification(full_labels)"
      ],
      "execution_count": null,
      "outputs": []
    },
    {
      "cell_type": "code",
      "metadata": {
        "id": "w0RC14KxpCzK",
        "colab_type": "code",
        "colab": {}
      },
      "source": [
        "# save a copy in my drive.\n",
        "\n",
        "%cp -R /content/preds.json /content/drive/My\\ Drive/classification_save "
      ],
      "execution_count": null,
      "outputs": []
    },
    {
      "cell_type": "code",
      "metadata": {
        "id": "lxTBJ_gxpNBs",
        "colab_type": "code",
        "colab": {
          "base_uri": "https://localhost:8080/",
          "height": 104
        },
        "outputId": "567331db-ad59-4a8f-9da9-72d29ed1ed31"
      },
      "source": [
        "# Clone SQUAD repo for the evaluation file.\n",
        "# Move the eval file to my content folder \n",
        "\n",
        "!git clone https://github.com/white127/SQUAD-2.0-bidaf.git\n",
        "%mv /content/SQUAD-2.0-bidaf/evaluate-v2.0.py /content/"
      ],
      "execution_count": null,
      "outputs": [
        {
          "output_type": "stream",
          "text": [
            "Cloning into 'SQUAD-2.0-bidaf'...\n",
            "remote: Enumerating objects: 125, done.\u001b[K\n",
            "remote: Total 125 (delta 0), reused 0 (delta 0), pack-reused 125\u001b[K\n",
            "Receiving objects: 100% (125/125), 709.51 KiB | 647.00 KiB/s, done.\n",
            "Resolving deltas: 100% (33/33), done.\n"
          ],
          "name": "stdout"
        }
      ]
    },
    {
      "cell_type": "code",
      "metadata": {
        "id": "yhqVVl0qqZYO",
        "colab_type": "code",
        "colab": {
          "base_uri": "https://localhost:8080/",
          "height": 208
        },
        "outputId": "dced7bb5-fb7a-48a1-cde2-f263f5383d7b"
      },
      "source": [
        "# Still download the Dev set.\n",
        "!wget https://rajpurkar.github.io/SQuAD-explorer/dataset/dev-v2.0.json"
      ],
      "execution_count": null,
      "outputs": [
        {
          "output_type": "stream",
          "text": [
            "--2020-07-21 18:15:08--  https://rajpurkar.github.io/SQuAD-explorer/dataset/dev-v2.0.json\n",
            "Resolving rajpurkar.github.io (rajpurkar.github.io)... 185.199.108.153, 185.199.111.153, 185.199.109.153, ...\n",
            "Connecting to rajpurkar.github.io (rajpurkar.github.io)|185.199.108.153|:443... connected.\n",
            "HTTP request sent, awaiting response... 200 OK\n",
            "Length: 4370528 (4.2M) [application/json]\n",
            "Saving to: ‘dev-v2.0.json.1’\n",
            "\n",
            "dev-v2.0.json.1     100%[===================>]   4.17M  13.0MB/s    in 0.3s    \n",
            "\n",
            "2020-07-21 18:15:08 (13.0 MB/s) - ‘dev-v2.0.json.1’ saved [4370528/4370528]\n",
            "\n"
          ],
          "name": "stdout"
        }
      ]
    },
    {
      "cell_type": "code",
      "metadata": {
        "id": "Y1w2J0GtpNGt",
        "colab_type": "code",
        "colab": {
          "base_uri": "https://localhost:8080/",
          "height": 225
        },
        "outputId": "e2015091-2407-4a29-ea9a-140030ed87f0"
      },
      "source": [
        "print(\"Results for Classification\")\n",
        "!python evaluate-v2.0.py dev-v2.0.json preds.json\n"
      ],
      "execution_count": null,
      "outputs": [
        {
          "output_type": "stream",
          "text": [
            "Results for Classification\n",
            "{\n",
            "  \"exact\": 75.36427187736882,\n",
            "  \"f1\": 78.37238782818865,\n",
            "  \"total\": 11873,\n",
            "  \"HasAns_exact\": 70.58029689608637,\n",
            "  \"HasAns_f1\": 76.60515531108051,\n",
            "  \"HasAns_total\": 5928,\n",
            "  \"NoAns_exact\": 80.13456686291,\n",
            "  \"NoAns_f1\": 80.13456686291,\n",
            "  \"NoAns_total\": 5945\n",
            "}\n"
          ],
          "name": "stdout"
        }
      ]
    },
    {
      "cell_type": "markdown",
      "metadata": {
        "id": "luE3KtO7Xb08",
        "colab_type": "text"
      },
      "source": [
        "### Step 10: Save Fine-Tuned Model "
      ]
    },
    {
      "cell_type": "code",
      "metadata": {
        "id": "ISe-Pv-cW-LY",
        "colab_type": "code",
        "colab": {
          "base_uri": "https://localhost:8080/",
          "height": 86
        },
        "outputId": "3ace17a6-e94f-40da-a599-7c21f9b29032"
      },
      "source": [
        "# Saving best-practices: if you use defaults names for the model, you can reload it using from_pretrained()\n",
        "\n",
        "output_dir = '/content/drive/My Drive/classification_save/'\n",
        "\n",
        "# Create output directory if needed\n",
        "if not os.path.exists(output_dir):\n",
        "    os.makedirs(output_dir)\n",
        "\n",
        "print(\"Saving model to %s\" % output_dir)\n",
        "\n",
        "# Save a trained model, configuration and tokenizer using `save_pretrained()`.\n",
        "# They can then be reloaded using `from_pretrained()`\n",
        "model_to_save = model.module if hasattr(model, 'module') else model  # Take care of distributed/parallel training\n",
        "model_to_save.save_pretrained(output_dir)\n",
        "tokenizer.save_pretrained(output_dir)\n",
        "torch.save(model.state_dict(), '/content/drive/My Drive/classification_save/model_state_dict.pth')\n",
        "# Good practice: save your training arguments together with the trained model\n",
        "#torch.save(args, os.path.join(output_dir, 'training_args.bin'))"
      ],
      "execution_count": null,
      "outputs": [
        {
          "output_type": "stream",
          "text": [
            "Saving model to /content/drive/My Drive/classification_save/\n"
          ],
          "name": "stdout"
        },
        {
          "output_type": "execute_result",
          "data": {
            "text/plain": [
              "('/content/drive/My Drive/classification_save/vocab.txt',\n",
              " '/content/drive/My Drive/classification_save/special_tokens_map.json',\n",
              " '/content/drive/My Drive/classification_save/added_tokens.json')"
            ]
          },
          "metadata": {
            "tags": []
          },
          "execution_count": 20
        }
      ]
    }
  ]
}